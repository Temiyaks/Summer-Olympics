{
  "nbformat": 4,
  "nbformat_minor": 0,
  "metadata": {
    "colab": {
      "name": "summer_olympics_games.ipynb",
      "provenance": [],
      "collapsed_sections": [],
      "toc_visible": true
    },
    "kernelspec": {
      "name": "python3",
      "display_name": "Python 3"
    },
    "language_info": {
      "name": "python"
    }
  },
  "cells": [
    {
      "cell_type": "markdown",
      "metadata": {
        "id": "uO-1Rq_LEkCO"
      },
      "source": [
        "## **An Exploratory Data Analysis on Olympics Games from 1986 - 2012**"
      ]
    },
    {
      "cell_type": "markdown",
      "metadata": {
        "id": "lHQNfn90-xbU"
      },
      "source": [
        "This is a historical dataset on the modern Olympic Games, including all the Games from Athens 1896 to Rio 2012."
      ]
    },
    {
      "cell_type": "code",
      "metadata": {
        "id": "sY185qlFzGf9"
      },
      "source": [
        "#Importing libraries\n",
        "import pandas as pd\n",
        "import numpy as np\n",
        "\n",
        "\n",
        "#visualization\n",
        "import matplotlib\n",
        "import matplotlib.pyplot as plt\n",
        "import seaborn as sns\n",
        "%matplotlib inline"
      ],
      "execution_count": 1,
      "outputs": []
    },
    {
      "cell_type": "code",
      "metadata": {
        "id": "K09GlhXv9sCl"
      },
      "source": [
        "#Reading the three datasets\n",
        "dict_df = pd.read_csv(\"/content/dictionary.csv\")\n",
        "summer_df = pd.read_csv(\"/content/summer.csv\")\n",
        "winter_df = pd.read_csv(\"/content/winter.csv\")"
      ],
      "execution_count": 2,
      "outputs": []
    },
    {
      "cell_type": "markdown",
      "metadata": {
        "id": "VCWON3wThNqE"
      },
      "source": [
        "**DATA CLEANING & UNDERSTANDING**"
      ]
    },
    {
      "cell_type": "code",
      "metadata": {
        "colab": {
          "base_uri": "https://localhost:8080/",
          "height": 204
        },
        "id": "Ee_qx_2-9wsN",
        "outputId": "11fd59fd-08d3-44fb-a781-77855b70af65"
      },
      "source": [
        "dict_df.head()"
      ],
      "execution_count": 3,
      "outputs": [
        {
          "output_type": "execute_result",
          "data": {
            "text/html": [
              "<div>\n",
              "<style scoped>\n",
              "    .dataframe tbody tr th:only-of-type {\n",
              "        vertical-align: middle;\n",
              "    }\n",
              "\n",
              "    .dataframe tbody tr th {\n",
              "        vertical-align: top;\n",
              "    }\n",
              "\n",
              "    .dataframe thead th {\n",
              "        text-align: right;\n",
              "    }\n",
              "</style>\n",
              "<table border=\"1\" class=\"dataframe\">\n",
              "  <thead>\n",
              "    <tr style=\"text-align: right;\">\n",
              "      <th></th>\n",
              "      <th>Country</th>\n",
              "      <th>Code</th>\n",
              "      <th>Population</th>\n",
              "      <th>GDP per Capita</th>\n",
              "    </tr>\n",
              "  </thead>\n",
              "  <tbody>\n",
              "    <tr>\n",
              "      <th>0</th>\n",
              "      <td>Afghanistan</td>\n",
              "      <td>AFG</td>\n",
              "      <td>32526562.0</td>\n",
              "      <td>594.323081</td>\n",
              "    </tr>\n",
              "    <tr>\n",
              "      <th>1</th>\n",
              "      <td>Albania</td>\n",
              "      <td>ALB</td>\n",
              "      <td>2889167.0</td>\n",
              "      <td>3945.217582</td>\n",
              "    </tr>\n",
              "    <tr>\n",
              "      <th>2</th>\n",
              "      <td>Algeria</td>\n",
              "      <td>ALG</td>\n",
              "      <td>39666519.0</td>\n",
              "      <td>4206.031232</td>\n",
              "    </tr>\n",
              "    <tr>\n",
              "      <th>3</th>\n",
              "      <td>American Samoa*</td>\n",
              "      <td>ASA</td>\n",
              "      <td>55538.0</td>\n",
              "      <td>NaN</td>\n",
              "    </tr>\n",
              "    <tr>\n",
              "      <th>4</th>\n",
              "      <td>Andorra</td>\n",
              "      <td>AND</td>\n",
              "      <td>70473.0</td>\n",
              "      <td>NaN</td>\n",
              "    </tr>\n",
              "  </tbody>\n",
              "</table>\n",
              "</div>"
            ],
            "text/plain": [
              "           Country Code  Population  GDP per Capita\n",
              "0      Afghanistan  AFG  32526562.0      594.323081\n",
              "1          Albania  ALB   2889167.0     3945.217582\n",
              "2          Algeria  ALG  39666519.0     4206.031232\n",
              "3  American Samoa*  ASA     55538.0             NaN\n",
              "4          Andorra  AND     70473.0             NaN"
            ]
          },
          "metadata": {},
          "execution_count": 3
        }
      ]
    },
    {
      "cell_type": "code",
      "metadata": {
        "colab": {
          "base_uri": "https://localhost:8080/",
          "height": 204
        },
        "id": "CLNm-H4MRFwP",
        "outputId": "015ce5da-6fc5-4247-d08b-196d685636b3"
      },
      "source": [
        "summer_df.head()"
      ],
      "execution_count": 4,
      "outputs": [
        {
          "output_type": "execute_result",
          "data": {
            "text/html": [
              "<div>\n",
              "<style scoped>\n",
              "    .dataframe tbody tr th:only-of-type {\n",
              "        vertical-align: middle;\n",
              "    }\n",
              "\n",
              "    .dataframe tbody tr th {\n",
              "        vertical-align: top;\n",
              "    }\n",
              "\n",
              "    .dataframe thead th {\n",
              "        text-align: right;\n",
              "    }\n",
              "</style>\n",
              "<table border=\"1\" class=\"dataframe\">\n",
              "  <thead>\n",
              "    <tr style=\"text-align: right;\">\n",
              "      <th></th>\n",
              "      <th>Year</th>\n",
              "      <th>City</th>\n",
              "      <th>Sport</th>\n",
              "      <th>Discipline</th>\n",
              "      <th>Athlete</th>\n",
              "      <th>Country</th>\n",
              "      <th>Gender</th>\n",
              "      <th>Event</th>\n",
              "      <th>Medal</th>\n",
              "    </tr>\n",
              "  </thead>\n",
              "  <tbody>\n",
              "    <tr>\n",
              "      <th>0</th>\n",
              "      <td>1896</td>\n",
              "      <td>Athens</td>\n",
              "      <td>Aquatics</td>\n",
              "      <td>Swimming</td>\n",
              "      <td>HAJOS, Alfred</td>\n",
              "      <td>HUN</td>\n",
              "      <td>Men</td>\n",
              "      <td>100M Freestyle</td>\n",
              "      <td>Gold</td>\n",
              "    </tr>\n",
              "    <tr>\n",
              "      <th>1</th>\n",
              "      <td>1896</td>\n",
              "      <td>Athens</td>\n",
              "      <td>Aquatics</td>\n",
              "      <td>Swimming</td>\n",
              "      <td>HERSCHMANN, Otto</td>\n",
              "      <td>AUT</td>\n",
              "      <td>Men</td>\n",
              "      <td>100M Freestyle</td>\n",
              "      <td>Silver</td>\n",
              "    </tr>\n",
              "    <tr>\n",
              "      <th>2</th>\n",
              "      <td>1896</td>\n",
              "      <td>Athens</td>\n",
              "      <td>Aquatics</td>\n",
              "      <td>Swimming</td>\n",
              "      <td>DRIVAS, Dimitrios</td>\n",
              "      <td>GRE</td>\n",
              "      <td>Men</td>\n",
              "      <td>100M Freestyle For Sailors</td>\n",
              "      <td>Bronze</td>\n",
              "    </tr>\n",
              "    <tr>\n",
              "      <th>3</th>\n",
              "      <td>1896</td>\n",
              "      <td>Athens</td>\n",
              "      <td>Aquatics</td>\n",
              "      <td>Swimming</td>\n",
              "      <td>MALOKINIS, Ioannis</td>\n",
              "      <td>GRE</td>\n",
              "      <td>Men</td>\n",
              "      <td>100M Freestyle For Sailors</td>\n",
              "      <td>Gold</td>\n",
              "    </tr>\n",
              "    <tr>\n",
              "      <th>4</th>\n",
              "      <td>1896</td>\n",
              "      <td>Athens</td>\n",
              "      <td>Aquatics</td>\n",
              "      <td>Swimming</td>\n",
              "      <td>CHASAPIS, Spiridon</td>\n",
              "      <td>GRE</td>\n",
              "      <td>Men</td>\n",
              "      <td>100M Freestyle For Sailors</td>\n",
              "      <td>Silver</td>\n",
              "    </tr>\n",
              "  </tbody>\n",
              "</table>\n",
              "</div>"
            ],
            "text/plain": [
              "   Year    City     Sport  ... Gender                       Event   Medal\n",
              "0  1896  Athens  Aquatics  ...    Men              100M Freestyle    Gold\n",
              "1  1896  Athens  Aquatics  ...    Men              100M Freestyle  Silver\n",
              "2  1896  Athens  Aquatics  ...    Men  100M Freestyle For Sailors  Bronze\n",
              "3  1896  Athens  Aquatics  ...    Men  100M Freestyle For Sailors    Gold\n",
              "4  1896  Athens  Aquatics  ...    Men  100M Freestyle For Sailors  Silver\n",
              "\n",
              "[5 rows x 9 columns]"
            ]
          },
          "metadata": {},
          "execution_count": 4
        }
      ]
    },
    {
      "cell_type": "code",
      "metadata": {
        "colab": {
          "base_uri": "https://localhost:8080/",
          "height": 204
        },
        "id": "uAck2a_YRLg_",
        "outputId": "d37280f7-1878-4d92-9ba2-3ce6813effff"
      },
      "source": [
        "winter_df.head()"
      ],
      "execution_count": 5,
      "outputs": [
        {
          "output_type": "execute_result",
          "data": {
            "text/html": [
              "<div>\n",
              "<style scoped>\n",
              "    .dataframe tbody tr th:only-of-type {\n",
              "        vertical-align: middle;\n",
              "    }\n",
              "\n",
              "    .dataframe tbody tr th {\n",
              "        vertical-align: top;\n",
              "    }\n",
              "\n",
              "    .dataframe thead th {\n",
              "        text-align: right;\n",
              "    }\n",
              "</style>\n",
              "<table border=\"1\" class=\"dataframe\">\n",
              "  <thead>\n",
              "    <tr style=\"text-align: right;\">\n",
              "      <th></th>\n",
              "      <th>Year</th>\n",
              "      <th>City</th>\n",
              "      <th>Sport</th>\n",
              "      <th>Discipline</th>\n",
              "      <th>Athlete</th>\n",
              "      <th>Country</th>\n",
              "      <th>Gender</th>\n",
              "      <th>Event</th>\n",
              "      <th>Medal</th>\n",
              "    </tr>\n",
              "  </thead>\n",
              "  <tbody>\n",
              "    <tr>\n",
              "      <th>0</th>\n",
              "      <td>1924</td>\n",
              "      <td>Chamonix</td>\n",
              "      <td>Biathlon</td>\n",
              "      <td>Biathlon</td>\n",
              "      <td>BERTHET, G.</td>\n",
              "      <td>FRA</td>\n",
              "      <td>Men</td>\n",
              "      <td>Military Patrol</td>\n",
              "      <td>Bronze</td>\n",
              "    </tr>\n",
              "    <tr>\n",
              "      <th>1</th>\n",
              "      <td>1924</td>\n",
              "      <td>Chamonix</td>\n",
              "      <td>Biathlon</td>\n",
              "      <td>Biathlon</td>\n",
              "      <td>MANDRILLON, C.</td>\n",
              "      <td>FRA</td>\n",
              "      <td>Men</td>\n",
              "      <td>Military Patrol</td>\n",
              "      <td>Bronze</td>\n",
              "    </tr>\n",
              "    <tr>\n",
              "      <th>2</th>\n",
              "      <td>1924</td>\n",
              "      <td>Chamonix</td>\n",
              "      <td>Biathlon</td>\n",
              "      <td>Biathlon</td>\n",
              "      <td>MANDRILLON, Maurice</td>\n",
              "      <td>FRA</td>\n",
              "      <td>Men</td>\n",
              "      <td>Military Patrol</td>\n",
              "      <td>Bronze</td>\n",
              "    </tr>\n",
              "    <tr>\n",
              "      <th>3</th>\n",
              "      <td>1924</td>\n",
              "      <td>Chamonix</td>\n",
              "      <td>Biathlon</td>\n",
              "      <td>Biathlon</td>\n",
              "      <td>VANDELLE, André</td>\n",
              "      <td>FRA</td>\n",
              "      <td>Men</td>\n",
              "      <td>Military Patrol</td>\n",
              "      <td>Bronze</td>\n",
              "    </tr>\n",
              "    <tr>\n",
              "      <th>4</th>\n",
              "      <td>1924</td>\n",
              "      <td>Chamonix</td>\n",
              "      <td>Biathlon</td>\n",
              "      <td>Biathlon</td>\n",
              "      <td>AUFDENBLATTEN, Adolf</td>\n",
              "      <td>SUI</td>\n",
              "      <td>Men</td>\n",
              "      <td>Military Patrol</td>\n",
              "      <td>Gold</td>\n",
              "    </tr>\n",
              "  </tbody>\n",
              "</table>\n",
              "</div>"
            ],
            "text/plain": [
              "   Year      City     Sport Discipline  ... Country Gender            Event   Medal\n",
              "0  1924  Chamonix  Biathlon   Biathlon  ...     FRA    Men  Military Patrol  Bronze\n",
              "1  1924  Chamonix  Biathlon   Biathlon  ...     FRA    Men  Military Patrol  Bronze\n",
              "2  1924  Chamonix  Biathlon   Biathlon  ...     FRA    Men  Military Patrol  Bronze\n",
              "3  1924  Chamonix  Biathlon   Biathlon  ...     FRA    Men  Military Patrol  Bronze\n",
              "4  1924  Chamonix  Biathlon   Biathlon  ...     SUI    Men  Military Patrol    Gold\n",
              "\n",
              "[5 rows x 9 columns]"
            ]
          },
          "metadata": {},
          "execution_count": 5
        }
      ]
    },
    {
      "cell_type": "markdown",
      "metadata": {
        "id": "nK6yqykZX1GG"
      },
      "source": [
        "# **Observations**\n",
        "\n",
        "Here are my observations from the three datasets:\n",
        "\n",
        "*   I'm going to grouped the datasets into two, i.e Summer Olympics and Winter Olympics.\n",
        "\n",
        "*   I'II merge Summer and dict dataframe to have Summer Olympics\n",
        "\n",
        "\n",
        "*   Also, I'II merge Winter and dict dataframe to have Winter Olympics\n",
        "\n",
        "*   Looking at the three datasets, I noticed column \"Code\" from dict dataframe and column \"Country\" from winter and summer  dataframe are kind of similar. Now, Since I want to merge the dataframe, the best approach is to change the column \"Country\" in Winter nad Summer to \"Code\" so that i can merge them.\n",
        "\n",
        "\n",
        "\n",
        "\n"
      ]
    },
    {
      "cell_type": "code",
      "metadata": {
        "id": "sng2AxVgRTnM"
      },
      "source": [
        "#To change the feature country to code\n",
        "summer_df.rename(columns={\"Country\": \"Code\"}, inplace =True)\n",
        "winter_df.rename(columns={\"Country\": \"Code\"}, inplace =True)\n"
      ],
      "execution_count": 6,
      "outputs": []
    },
    {
      "cell_type": "code",
      "metadata": {
        "colab": {
          "base_uri": "https://localhost:8080/",
          "height": 204
        },
        "id": "_vBDqoK-ay82",
        "outputId": "256fbfa7-30c3-467c-f5c9-8fc1613d2062"
      },
      "source": [
        "summer_df.head() #To see  the changes"
      ],
      "execution_count": 7,
      "outputs": [
        {
          "output_type": "execute_result",
          "data": {
            "text/html": [
              "<div>\n",
              "<style scoped>\n",
              "    .dataframe tbody tr th:only-of-type {\n",
              "        vertical-align: middle;\n",
              "    }\n",
              "\n",
              "    .dataframe tbody tr th {\n",
              "        vertical-align: top;\n",
              "    }\n",
              "\n",
              "    .dataframe thead th {\n",
              "        text-align: right;\n",
              "    }\n",
              "</style>\n",
              "<table border=\"1\" class=\"dataframe\">\n",
              "  <thead>\n",
              "    <tr style=\"text-align: right;\">\n",
              "      <th></th>\n",
              "      <th>Year</th>\n",
              "      <th>City</th>\n",
              "      <th>Sport</th>\n",
              "      <th>Discipline</th>\n",
              "      <th>Athlete</th>\n",
              "      <th>Code</th>\n",
              "      <th>Gender</th>\n",
              "      <th>Event</th>\n",
              "      <th>Medal</th>\n",
              "    </tr>\n",
              "  </thead>\n",
              "  <tbody>\n",
              "    <tr>\n",
              "      <th>0</th>\n",
              "      <td>1896</td>\n",
              "      <td>Athens</td>\n",
              "      <td>Aquatics</td>\n",
              "      <td>Swimming</td>\n",
              "      <td>HAJOS, Alfred</td>\n",
              "      <td>HUN</td>\n",
              "      <td>Men</td>\n",
              "      <td>100M Freestyle</td>\n",
              "      <td>Gold</td>\n",
              "    </tr>\n",
              "    <tr>\n",
              "      <th>1</th>\n",
              "      <td>1896</td>\n",
              "      <td>Athens</td>\n",
              "      <td>Aquatics</td>\n",
              "      <td>Swimming</td>\n",
              "      <td>HERSCHMANN, Otto</td>\n",
              "      <td>AUT</td>\n",
              "      <td>Men</td>\n",
              "      <td>100M Freestyle</td>\n",
              "      <td>Silver</td>\n",
              "    </tr>\n",
              "    <tr>\n",
              "      <th>2</th>\n",
              "      <td>1896</td>\n",
              "      <td>Athens</td>\n",
              "      <td>Aquatics</td>\n",
              "      <td>Swimming</td>\n",
              "      <td>DRIVAS, Dimitrios</td>\n",
              "      <td>GRE</td>\n",
              "      <td>Men</td>\n",
              "      <td>100M Freestyle For Sailors</td>\n",
              "      <td>Bronze</td>\n",
              "    </tr>\n",
              "    <tr>\n",
              "      <th>3</th>\n",
              "      <td>1896</td>\n",
              "      <td>Athens</td>\n",
              "      <td>Aquatics</td>\n",
              "      <td>Swimming</td>\n",
              "      <td>MALOKINIS, Ioannis</td>\n",
              "      <td>GRE</td>\n",
              "      <td>Men</td>\n",
              "      <td>100M Freestyle For Sailors</td>\n",
              "      <td>Gold</td>\n",
              "    </tr>\n",
              "    <tr>\n",
              "      <th>4</th>\n",
              "      <td>1896</td>\n",
              "      <td>Athens</td>\n",
              "      <td>Aquatics</td>\n",
              "      <td>Swimming</td>\n",
              "      <td>CHASAPIS, Spiridon</td>\n",
              "      <td>GRE</td>\n",
              "      <td>Men</td>\n",
              "      <td>100M Freestyle For Sailors</td>\n",
              "      <td>Silver</td>\n",
              "    </tr>\n",
              "  </tbody>\n",
              "</table>\n",
              "</div>"
            ],
            "text/plain": [
              "   Year    City     Sport  ... Gender                       Event   Medal\n",
              "0  1896  Athens  Aquatics  ...    Men              100M Freestyle    Gold\n",
              "1  1896  Athens  Aquatics  ...    Men              100M Freestyle  Silver\n",
              "2  1896  Athens  Aquatics  ...    Men  100M Freestyle For Sailors  Bronze\n",
              "3  1896  Athens  Aquatics  ...    Men  100M Freestyle For Sailors    Gold\n",
              "4  1896  Athens  Aquatics  ...    Men  100M Freestyle For Sailors  Silver\n",
              "\n",
              "[5 rows x 9 columns]"
            ]
          },
          "metadata": {},
          "execution_count": 7
        }
      ]
    },
    {
      "cell_type": "markdown",
      "metadata": {
        "id": "QKzzReN8-6ls"
      },
      "source": [
        ""
      ]
    },
    {
      "cell_type": "code",
      "metadata": {
        "id": "GW9mzJQ_a1IK"
      },
      "source": [
        "#I can merge using the feature(Code) that's common  using the outer join\n",
        "#merging dict_df and summer_df to have summer_olympics\n",
        "#I abbreviated olympics as olp\n",
        "summer_olp = pd.merge(dict_df, summer_df, on=\"Code\")\n",
        "\n",
        "#merging dict_df and winter_df to have summer_olympics using the outer join\n",
        "winter_olp = pd.merge(dict_df, summer_df, on=\"Code\")\n"
      ],
      "execution_count": 8,
      "outputs": []
    },
    {
      "cell_type": "markdown",
      "metadata": {
        "id": "qzblQkiLcOmu"
      },
      "source": [
        "From the code above, we now have two datasets, Winter Olympics and Summer Olympics.\n",
        "\n",
        "First, I'II be working on the Summer Olympics"
      ]
    },
    {
      "cell_type": "code",
      "metadata": {
        "colab": {
          "base_uri": "https://localhost:8080/",
          "height": 272
        },
        "id": "asBM0zngcNWz",
        "outputId": "9a719548-0af9-4e93-c362-cacc78c0d7b9"
      },
      "source": [
        "#To see first few rows\n",
        "summer_olp.head()"
      ],
      "execution_count": 9,
      "outputs": [
        {
          "output_type": "execute_result",
          "data": {
            "text/html": [
              "<div>\n",
              "<style scoped>\n",
              "    .dataframe tbody tr th:only-of-type {\n",
              "        vertical-align: middle;\n",
              "    }\n",
              "\n",
              "    .dataframe tbody tr th {\n",
              "        vertical-align: top;\n",
              "    }\n",
              "\n",
              "    .dataframe thead th {\n",
              "        text-align: right;\n",
              "    }\n",
              "</style>\n",
              "<table border=\"1\" class=\"dataframe\">\n",
              "  <thead>\n",
              "    <tr style=\"text-align: right;\">\n",
              "      <th></th>\n",
              "      <th>Country</th>\n",
              "      <th>Code</th>\n",
              "      <th>Population</th>\n",
              "      <th>GDP per Capita</th>\n",
              "      <th>Year</th>\n",
              "      <th>City</th>\n",
              "      <th>Sport</th>\n",
              "      <th>Discipline</th>\n",
              "      <th>Athlete</th>\n",
              "      <th>Gender</th>\n",
              "      <th>Event</th>\n",
              "      <th>Medal</th>\n",
              "    </tr>\n",
              "  </thead>\n",
              "  <tbody>\n",
              "    <tr>\n",
              "      <th>0</th>\n",
              "      <td>Afghanistan</td>\n",
              "      <td>AFG</td>\n",
              "      <td>32526562.0</td>\n",
              "      <td>594.323081</td>\n",
              "      <td>2008</td>\n",
              "      <td>Beijing</td>\n",
              "      <td>Taekwondo</td>\n",
              "      <td>Taekwondo</td>\n",
              "      <td>NIKPAI, Rohullah</td>\n",
              "      <td>Men</td>\n",
              "      <td>- 58 KG</td>\n",
              "      <td>Bronze</td>\n",
              "    </tr>\n",
              "    <tr>\n",
              "      <th>1</th>\n",
              "      <td>Afghanistan</td>\n",
              "      <td>AFG</td>\n",
              "      <td>32526562.0</td>\n",
              "      <td>594.323081</td>\n",
              "      <td>2012</td>\n",
              "      <td>London</td>\n",
              "      <td>Taekwondo</td>\n",
              "      <td>Taekwondo</td>\n",
              "      <td>NIKPAI, Rohullah</td>\n",
              "      <td>Men</td>\n",
              "      <td>58 - 68 KG</td>\n",
              "      <td>Bronze</td>\n",
              "    </tr>\n",
              "    <tr>\n",
              "      <th>2</th>\n",
              "      <td>Algeria</td>\n",
              "      <td>ALG</td>\n",
              "      <td>39666519.0</td>\n",
              "      <td>4206.031232</td>\n",
              "      <td>1984</td>\n",
              "      <td>Los Angeles</td>\n",
              "      <td>Boxing</td>\n",
              "      <td>Boxing</td>\n",
              "      <td>ZAOUI, Mohamed</td>\n",
              "      <td>Men</td>\n",
              "      <td>71-75KG</td>\n",
              "      <td>Bronze</td>\n",
              "    </tr>\n",
              "    <tr>\n",
              "      <th>3</th>\n",
              "      <td>Algeria</td>\n",
              "      <td>ALG</td>\n",
              "      <td>39666519.0</td>\n",
              "      <td>4206.031232</td>\n",
              "      <td>1984</td>\n",
              "      <td>Los Angeles</td>\n",
              "      <td>Boxing</td>\n",
              "      <td>Boxing</td>\n",
              "      <td>MOUSSA, Mustapha</td>\n",
              "      <td>Men</td>\n",
              "      <td>75 - 81KG (Light-Heavyweight)</td>\n",
              "      <td>Bronze</td>\n",
              "    </tr>\n",
              "    <tr>\n",
              "      <th>4</th>\n",
              "      <td>Algeria</td>\n",
              "      <td>ALG</td>\n",
              "      <td>39666519.0</td>\n",
              "      <td>4206.031232</td>\n",
              "      <td>1992</td>\n",
              "      <td>Barcelona</td>\n",
              "      <td>Athletics</td>\n",
              "      <td>Athletics</td>\n",
              "      <td>BOULMERKA, Hassiba</td>\n",
              "      <td>Women</td>\n",
              "      <td>1500M</td>\n",
              "      <td>Gold</td>\n",
              "    </tr>\n",
              "  </tbody>\n",
              "</table>\n",
              "</div>"
            ],
            "text/plain": [
              "       Country Code  Population  ...  Gender                          Event   Medal\n",
              "0  Afghanistan  AFG  32526562.0  ...     Men                        - 58 KG  Bronze\n",
              "1  Afghanistan  AFG  32526562.0  ...     Men                     58 - 68 KG  Bronze\n",
              "2      Algeria  ALG  39666519.0  ...     Men                        71-75KG  Bronze\n",
              "3      Algeria  ALG  39666519.0  ...     Men  75 - 81KG (Light-Heavyweight)  Bronze\n",
              "4      Algeria  ALG  39666519.0  ...   Women                          1500M    Gold\n",
              "\n",
              "[5 rows x 12 columns]"
            ]
          },
          "metadata": {},
          "execution_count": 9
        }
      ]
    },
    {
      "cell_type": "markdown",
      "metadata": {
        "id": "0RDpZXaF-9aD"
      },
      "source": [
        "# **Summer Dataset Description**\n",
        "\n",
        "\n",
        "Features and Description\n",
        "\n",
        "\n",
        "1   Country : The country that participated in the Olympics code\n",
        "\n",
        "2  Code: The abbreviation of the country\n",
        "\n",
        "\n",
        "3   Population: Numbers of population that was present for the olympics\n",
        "\n",
        "4   GDP per Capita: \n",
        "\n",
        "\n",
        "5   Year: The year of the olympics games\n",
        "\n",
        "6  City: The City that host the games\n",
        "\n",
        "7  Sport: The kind of sport that happened in the games\n",
        "\n",
        "8  Displine:  Specialization of the type of sport that Atlete contetsted for.\n",
        "\n",
        "9  Gender: Contestant that was present 1.e Male or Female\n",
        "\n",
        "\n",
        "10   Event:  Events in the Olympics\n",
        "\n",
        "11  Medal: Awards presented to the Winner. Gold, Silver or Bronze.\n",
        "\n",
        "\n",
        "\n",
        "\n",
        "\n",
        "\n",
        "\n",
        "\n",
        "\n",
        "\n",
        "\n",
        "\n"
      ]
    },
    {
      "cell_type": "code",
      "metadata": {
        "colab": {
          "base_uri": "https://localhost:8080/",
          "height": 204
        },
        "id": "z6VA8U4ycgU3",
        "outputId": "5b3ebf32-43bd-4ba4-89fd-41aa6f3ecb13"
      },
      "source": [
        "#To see the last few rows\n",
        "summer_olp.tail()"
      ],
      "execution_count": 20,
      "outputs": [
        {
          "output_type": "execute_result",
          "data": {
            "text/html": [
              "<div>\n",
              "<style scoped>\n",
              "    .dataframe tbody tr th:only-of-type {\n",
              "        vertical-align: middle;\n",
              "    }\n",
              "\n",
              "    .dataframe tbody tr th {\n",
              "        vertical-align: top;\n",
              "    }\n",
              "\n",
              "    .dataframe thead th {\n",
              "        text-align: right;\n",
              "    }\n",
              "</style>\n",
              "<table border=\"1\" class=\"dataframe\">\n",
              "  <thead>\n",
              "    <tr style=\"text-align: right;\">\n",
              "      <th></th>\n",
              "      <th>Country</th>\n",
              "      <th>Code</th>\n",
              "      <th>Population</th>\n",
              "      <th>GDP per Capita</th>\n",
              "      <th>Year</th>\n",
              "      <th>City</th>\n",
              "      <th>Sport</th>\n",
              "      <th>Discipline</th>\n",
              "      <th>Athlete</th>\n",
              "      <th>Gender</th>\n",
              "      <th>Event</th>\n",
              "      <th>Medal</th>\n",
              "    </tr>\n",
              "  </thead>\n",
              "  <tbody>\n",
              "    <tr>\n",
              "      <th>25737</th>\n",
              "      <td>Zimbabwe</td>\n",
              "      <td>ZIM</td>\n",
              "      <td>15602751.0</td>\n",
              "      <td>924.143819</td>\n",
              "      <td>2004</td>\n",
              "      <td>Athens</td>\n",
              "      <td>Aquatics</td>\n",
              "      <td>Swimming</td>\n",
              "      <td>COVENTRY, Kirsty</td>\n",
              "      <td>Women</td>\n",
              "      <td>200M Individual Medley</td>\n",
              "      <td>Bronze</td>\n",
              "    </tr>\n",
              "    <tr>\n",
              "      <th>25738</th>\n",
              "      <td>Zimbabwe</td>\n",
              "      <td>ZIM</td>\n",
              "      <td>15602751.0</td>\n",
              "      <td>924.143819</td>\n",
              "      <td>2008</td>\n",
              "      <td>Beijing</td>\n",
              "      <td>Aquatics</td>\n",
              "      <td>Swimming</td>\n",
              "      <td>COVENTRY, Kirsty</td>\n",
              "      <td>Women</td>\n",
              "      <td>100M Backstroke</td>\n",
              "      <td>Silver</td>\n",
              "    </tr>\n",
              "    <tr>\n",
              "      <th>25739</th>\n",
              "      <td>Zimbabwe</td>\n",
              "      <td>ZIM</td>\n",
              "      <td>15602751.0</td>\n",
              "      <td>924.143819</td>\n",
              "      <td>2008</td>\n",
              "      <td>Beijing</td>\n",
              "      <td>Aquatics</td>\n",
              "      <td>Swimming</td>\n",
              "      <td>COVENTRY, Kirsty</td>\n",
              "      <td>Women</td>\n",
              "      <td>200M Backstroke</td>\n",
              "      <td>Gold</td>\n",
              "    </tr>\n",
              "    <tr>\n",
              "      <th>25740</th>\n",
              "      <td>Zimbabwe</td>\n",
              "      <td>ZIM</td>\n",
              "      <td>15602751.0</td>\n",
              "      <td>924.143819</td>\n",
              "      <td>2008</td>\n",
              "      <td>Beijing</td>\n",
              "      <td>Aquatics</td>\n",
              "      <td>Swimming</td>\n",
              "      <td>COVENTRY, Kirsty</td>\n",
              "      <td>Women</td>\n",
              "      <td>200M Individual Medley</td>\n",
              "      <td>Silver</td>\n",
              "    </tr>\n",
              "    <tr>\n",
              "      <th>25741</th>\n",
              "      <td>Zimbabwe</td>\n",
              "      <td>ZIM</td>\n",
              "      <td>15602751.0</td>\n",
              "      <td>924.143819</td>\n",
              "      <td>2008</td>\n",
              "      <td>Beijing</td>\n",
              "      <td>Aquatics</td>\n",
              "      <td>Swimming</td>\n",
              "      <td>COVENTRY, Kirsty</td>\n",
              "      <td>Women</td>\n",
              "      <td>400M Individual Medley</td>\n",
              "      <td>Silver</td>\n",
              "    </tr>\n",
              "  </tbody>\n",
              "</table>\n",
              "</div>"
            ],
            "text/plain": [
              "        Country Code  Population  ...  Gender                   Event   Medal\n",
              "25737  Zimbabwe  ZIM  15602751.0  ...   Women  200M Individual Medley  Bronze\n",
              "25738  Zimbabwe  ZIM  15602751.0  ...   Women         100M Backstroke  Silver\n",
              "25739  Zimbabwe  ZIM  15602751.0  ...   Women         200M Backstroke    Gold\n",
              "25740  Zimbabwe  ZIM  15602751.0  ...   Women  200M Individual Medley  Silver\n",
              "25741  Zimbabwe  ZIM  15602751.0  ...   Women  400M Individual Medley  Silver\n",
              "\n",
              "[5 rows x 12 columns]"
            ]
          },
          "metadata": {},
          "execution_count": 20
        }
      ]
    },
    {
      "cell_type": "code",
      "metadata": {
        "colab": {
          "base_uri": "https://localhost:8080/"
        },
        "id": "lN8WsZkLctj0",
        "outputId": "c82c0f2b-6884-4010-ab0e-88939903fef9"
      },
      "source": [
        "#To see the summary of the datatypes\n",
        "summer_olp.info()"
      ],
      "execution_count": 10,
      "outputs": [
        {
          "output_type": "stream",
          "name": "stdout",
          "text": [
            "<class 'pandas.core.frame.DataFrame'>\n",
            "Int64Index: 25742 entries, 0 to 25741\n",
            "Data columns (total 12 columns):\n",
            " #   Column          Non-Null Count  Dtype  \n",
            "---  ------          --------------  -----  \n",
            " 0   Country         25742 non-null  object \n",
            " 1   Code            25742 non-null  object \n",
            " 2   Population      25696 non-null  float64\n",
            " 3   GDP per Capita  25142 non-null  float64\n",
            " 4   Year            25742 non-null  int64  \n",
            " 5   City            25742 non-null  object \n",
            " 6   Sport           25742 non-null  object \n",
            " 7   Discipline      25742 non-null  object \n",
            " 8   Athlete         25742 non-null  object \n",
            " 9   Gender          25742 non-null  object \n",
            " 10  Event           25742 non-null  object \n",
            " 11  Medal           25742 non-null  object \n",
            "dtypes: float64(2), int64(1), object(9)\n",
            "memory usage: 2.6+ MB\n"
          ]
        }
      ]
    },
    {
      "cell_type": "code",
      "metadata": {
        "id": "TP5GIYwJv4ZS"
      },
      "source": [
        "# summer_olp.isnull().any()"
      ],
      "execution_count": null,
      "outputs": []
    },
    {
      "cell_type": "code",
      "metadata": {
        "colab": {
          "base_uri": "https://localhost:8080/"
        },
        "id": "QLnybIIWcyKA",
        "outputId": "859d738a-6176-420b-fe3d-3e7fcb07f1cf"
      },
      "source": [
        "summer_olp.shape"
      ],
      "execution_count": 11,
      "outputs": [
        {
          "output_type": "execute_result",
          "data": {
            "text/plain": [
              "(25742, 12)"
            ]
          },
          "metadata": {},
          "execution_count": 11
        }
      ]
    },
    {
      "cell_type": "markdown",
      "metadata": {
        "id": "q9DH0szZpPGz"
      },
      "source": [
        "\n",
        "From the above code, we have 25742 rows and 12 columns(features)\n"
      ]
    },
    {
      "cell_type": "code",
      "metadata": {
        "colab": {
          "base_uri": "https://localhost:8080/"
        },
        "id": "nnL6Z6Aoc7xD",
        "outputId": "526531b2-b83f-48b6-f385-4644d430f78d"
      },
      "source": [
        "#To check if the headers is well written\n",
        "summer_olp.columns"
      ],
      "execution_count": 12,
      "outputs": [
        {
          "output_type": "execute_result",
          "data": {
            "text/plain": [
              "Index(['Country', 'Code', 'Population', 'GDP per Capita', 'Year', 'City',\n",
              "       'Sport', 'Discipline', 'Athlete', 'Gender', 'Event', 'Medal'],\n",
              "      dtype='object')"
            ]
          },
          "metadata": {},
          "execution_count": 12
        }
      ]
    },
    {
      "cell_type": "code",
      "metadata": {
        "colab": {
          "base_uri": "https://localhost:8080/"
        },
        "id": "PAl5Ln9BdJOK",
        "outputId": "62dae1af-0d7e-406f-8570-9ce1a48773df"
      },
      "source": [
        "\n",
        "#Checking for the number of each data type----\n",
        "df_numeric = summer_olp.select_dtypes(include='number') # extract columns with number\n",
        "num = len(df_numeric.columns) # sum the columns extracted\n",
        "print(f'We have {num} numeric columns') #format string\n",
        "\n",
        "df_obj = summer_olp.select_dtypes(include='object')\n",
        "num_2 = len(df_obj.columns)\n",
        "print(f'we have {num_2} object columns')\n",
        "\n",
        "df_bool = summer_olp.select_dtypes(include='bool')\n",
        "num_3 = len(df_bool.columns)\n",
        "print(f'we have {num_3} boolean columns')\n",
        "\n",
        "print(f'With a total number of {num + num_2 + num_3} columns')"
      ],
      "execution_count": 13,
      "outputs": [
        {
          "output_type": "stream",
          "name": "stdout",
          "text": [
            "We have 3 numeric columns\n",
            "we have 9 object columns\n",
            "we have 0 boolean columns\n",
            "With a total number of 12 columns\n"
          ]
        }
      ]
    },
    {
      "cell_type": "code",
      "metadata": {
        "id": "CXiS8Mcyv1pS"
      },
      "source": [
        ""
      ],
      "execution_count": null,
      "outputs": []
    },
    {
      "cell_type": "code",
      "metadata": {
        "colab": {
          "base_uri": "https://localhost:8080/",
          "height": 297
        },
        "id": "jTM4P6zJpLtC",
        "outputId": "5093c16b-47aa-43e1-df1c-598a29344c51"
      },
      "source": [
        "\n",
        "#Check the describtion of the numeric features\n",
        "summer_olp.describe()"
      ],
      "execution_count": 14,
      "outputs": [
        {
          "output_type": "execute_result",
          "data": {
            "text/html": [
              "<div>\n",
              "<style scoped>\n",
              "    .dataframe tbody tr th:only-of-type {\n",
              "        vertical-align: middle;\n",
              "    }\n",
              "\n",
              "    .dataframe tbody tr th {\n",
              "        vertical-align: top;\n",
              "    }\n",
              "\n",
              "    .dataframe thead th {\n",
              "        text-align: right;\n",
              "    }\n",
              "</style>\n",
              "<table border=\"1\" class=\"dataframe\">\n",
              "  <thead>\n",
              "    <tr style=\"text-align: right;\">\n",
              "      <th></th>\n",
              "      <th>Population</th>\n",
              "      <th>GDP per Capita</th>\n",
              "      <th>Year</th>\n",
              "    </tr>\n",
              "  </thead>\n",
              "  <tbody>\n",
              "    <tr>\n",
              "      <th>count</th>\n",
              "      <td>2.569600e+04</td>\n",
              "      <td>25142.000000</td>\n",
              "      <td>25742.000000</td>\n",
              "    </tr>\n",
              "    <tr>\n",
              "      <th>mean</th>\n",
              "      <td>1.486127e+08</td>\n",
              "      <td>36819.832226</td>\n",
              "      <td>1969.715018</td>\n",
              "    </tr>\n",
              "    <tr>\n",
              "      <th>std</th>\n",
              "      <td>2.671679e+08</td>\n",
              "      <td>19545.022998</td>\n",
              "      <td>35.599112</td>\n",
              "    </tr>\n",
              "    <tr>\n",
              "      <th>min</th>\n",
              "      <td>6.523500e+04</td>\n",
              "      <td>277.068309</td>\n",
              "      <td>1896.000000</td>\n",
              "    </tr>\n",
              "    <tr>\n",
              "      <th>25%</th>\n",
              "      <td>1.138956e+07</td>\n",
              "      <td>17118.504200</td>\n",
              "      <td>1936.000000</td>\n",
              "    </tr>\n",
              "    <tr>\n",
              "      <th>50%</th>\n",
              "      <td>6.080208e+07</td>\n",
              "      <td>41313.313995</td>\n",
              "      <td>1984.000000</td>\n",
              "    </tr>\n",
              "    <tr>\n",
              "      <th>75%</th>\n",
              "      <td>1.440968e+08</td>\n",
              "      <td>56115.718426</td>\n",
              "      <td>2000.000000</td>\n",
              "    </tr>\n",
              "    <tr>\n",
              "      <th>max</th>\n",
              "      <td>1.371220e+09</td>\n",
              "      <td>101449.968168</td>\n",
              "      <td>2012.000000</td>\n",
              "    </tr>\n",
              "  </tbody>\n",
              "</table>\n",
              "</div>"
            ],
            "text/plain": [
              "         Population  GDP per Capita          Year\n",
              "count  2.569600e+04    25142.000000  25742.000000\n",
              "mean   1.486127e+08    36819.832226   1969.715018\n",
              "std    2.671679e+08    19545.022998     35.599112\n",
              "min    6.523500e+04      277.068309   1896.000000\n",
              "25%    1.138956e+07    17118.504200   1936.000000\n",
              "50%    6.080208e+07    41313.313995   1984.000000\n",
              "75%    1.440968e+08    56115.718426   2000.000000\n",
              "max    1.371220e+09   101449.968168   2012.000000"
            ]
          },
          "metadata": {},
          "execution_count": 14
        }
      ]
    },
    {
      "cell_type": "markdown",
      "metadata": {
        "id": "fzuXtVIUxG1N"
      },
      "source": [
        "From the  code aboce, the dataset goes from 1896 t0 2012."
      ]
    },
    {
      "cell_type": "code",
      "metadata": {
        "colab": {
          "base_uri": "https://localhost:8080/",
          "height": 173
        },
        "id": "ZFgYXbugpp-y",
        "outputId": "4a3d3d86-151c-4b76-a1ac-c00465f73c7e"
      },
      "source": [
        "#Check the describtion of the categorical  features\n",
        "summer_olp.describe(include=['O'])"
      ],
      "execution_count": 15,
      "outputs": [
        {
          "output_type": "execute_result",
          "data": {
            "text/html": [
              "<div>\n",
              "<style scoped>\n",
              "    .dataframe tbody tr th:only-of-type {\n",
              "        vertical-align: middle;\n",
              "    }\n",
              "\n",
              "    .dataframe tbody tr th {\n",
              "        vertical-align: top;\n",
              "    }\n",
              "\n",
              "    .dataframe thead th {\n",
              "        text-align: right;\n",
              "    }\n",
              "</style>\n",
              "<table border=\"1\" class=\"dataframe\">\n",
              "  <thead>\n",
              "    <tr style=\"text-align: right;\">\n",
              "      <th></th>\n",
              "      <th>Country</th>\n",
              "      <th>Code</th>\n",
              "      <th>City</th>\n",
              "      <th>Sport</th>\n",
              "      <th>Discipline</th>\n",
              "      <th>Athlete</th>\n",
              "      <th>Gender</th>\n",
              "      <th>Event</th>\n",
              "      <th>Medal</th>\n",
              "    </tr>\n",
              "  </thead>\n",
              "  <tbody>\n",
              "    <tr>\n",
              "      <th>count</th>\n",
              "      <td>25742</td>\n",
              "      <td>25742</td>\n",
              "      <td>25742</td>\n",
              "      <td>25742</td>\n",
              "      <td>25742</td>\n",
              "      <td>25742</td>\n",
              "      <td>25742</td>\n",
              "      <td>25742</td>\n",
              "      <td>25742</td>\n",
              "    </tr>\n",
              "    <tr>\n",
              "      <th>unique</th>\n",
              "      <td>129</td>\n",
              "      <td>129</td>\n",
              "      <td>22</td>\n",
              "      <td>43</td>\n",
              "      <td>67</td>\n",
              "      <td>19059</td>\n",
              "      <td>2</td>\n",
              "      <td>666</td>\n",
              "      <td>3</td>\n",
              "    </tr>\n",
              "    <tr>\n",
              "      <th>top</th>\n",
              "      <td>United States</td>\n",
              "      <td>USA</td>\n",
              "      <td>London</td>\n",
              "      <td>Aquatics</td>\n",
              "      <td>Athletics</td>\n",
              "      <td>PHELPS, Michael</td>\n",
              "      <td>Men</td>\n",
              "      <td>Hockey</td>\n",
              "      <td>Bronze</td>\n",
              "    </tr>\n",
              "    <tr>\n",
              "      <th>freq</th>\n",
              "      <td>4585</td>\n",
              "      <td>4585</td>\n",
              "      <td>3440</td>\n",
              "      <td>3558</td>\n",
              "      <td>3034</td>\n",
              "      <td>22</td>\n",
              "      <td>19036</td>\n",
              "      <td>1297</td>\n",
              "      <td>8637</td>\n",
              "    </tr>\n",
              "  </tbody>\n",
              "</table>\n",
              "</div>"
            ],
            "text/plain": [
              "              Country   Code    City  ... Gender   Event   Medal\n",
              "count           25742  25742   25742  ...  25742   25742   25742\n",
              "unique            129    129      22  ...      2     666       3\n",
              "top     United States    USA  London  ...    Men  Hockey  Bronze\n",
              "freq             4585   4585    3440  ...  19036    1297    8637\n",
              "\n",
              "[4 rows x 9 columns]"
            ]
          },
          "metadata": {},
          "execution_count": 15
        }
      ]
    },
    {
      "cell_type": "markdown",
      "metadata": {
        "id": "IU1adYl52ECa"
      },
      "source": [
        "**Observations**\n",
        "\n",
        "*   USA has the highest number of medal\n",
        "*   London has the majority of the medal where the game was hosted\n",
        "\n",
        "*   The sport Aquatics has the majority of the medals\n",
        "*   \n",
        "\n",
        "\n",
        "\n"
      ]
    },
    {
      "cell_type": "code",
      "metadata": {
        "colab": {
          "base_uri": "https://localhost:8080/"
        },
        "id": "2rdLrP-uTGD-",
        "outputId": "d484e5c7-3f8c-4751-b7c3-ba283e5152c9"
      },
      "source": [
        "#To check if there is missing data in the datframe\n",
        "summer_olp.isnull().values.any()"
      ],
      "execution_count": 16,
      "outputs": [
        {
          "output_type": "execute_result",
          "data": {
            "text/plain": [
              "True"
            ]
          },
          "metadata": {},
          "execution_count": 16
        }
      ]
    },
    {
      "cell_type": "markdown",
      "metadata": {
        "id": "ro6ShI1oTXB2"
      },
      "source": [
        "From the above code we can see there are missing data in the dataframe. We need to find percentage of missing data and drop all neccesary rows or columns."
      ]
    },
    {
      "cell_type": "code",
      "metadata": {
        "colab": {
          "base_uri": "https://localhost:8080/",
          "height": 421
        },
        "id": "knx6QOjoTenr",
        "outputId": "443f73cc-a118-44b2-f184-e3e8caa34da4"
      },
      "source": [
        "#Checking for the percentage of the missing data\n",
        "\n",
        "#creating a dataframe for percebtage of missing data\n",
        "percentage_of_missing_data = pd.DataFrame({'Percentage of Missing of Data':round((summer_olp.isnull().sum()/len(summer_olp.index)) * 100,2)}) \n",
        "percentage_of_missing_data = percentage_of_missing_data.sort_values(by='Percentage of Missing of Data',ascending=False)\n",
        "percentage_of_missing_data"
      ],
      "execution_count": 17,
      "outputs": [
        {
          "output_type": "execute_result",
          "data": {
            "text/html": [
              "<div>\n",
              "<style scoped>\n",
              "    .dataframe tbody tr th:only-of-type {\n",
              "        vertical-align: middle;\n",
              "    }\n",
              "\n",
              "    .dataframe tbody tr th {\n",
              "        vertical-align: top;\n",
              "    }\n",
              "\n",
              "    .dataframe thead th {\n",
              "        text-align: right;\n",
              "    }\n",
              "</style>\n",
              "<table border=\"1\" class=\"dataframe\">\n",
              "  <thead>\n",
              "    <tr style=\"text-align: right;\">\n",
              "      <th></th>\n",
              "      <th>Percentage of Missing of Data</th>\n",
              "    </tr>\n",
              "  </thead>\n",
              "  <tbody>\n",
              "    <tr>\n",
              "      <th>GDP per Capita</th>\n",
              "      <td>2.33</td>\n",
              "    </tr>\n",
              "    <tr>\n",
              "      <th>Population</th>\n",
              "      <td>0.18</td>\n",
              "    </tr>\n",
              "    <tr>\n",
              "      <th>Country</th>\n",
              "      <td>0.00</td>\n",
              "    </tr>\n",
              "    <tr>\n",
              "      <th>Code</th>\n",
              "      <td>0.00</td>\n",
              "    </tr>\n",
              "    <tr>\n",
              "      <th>Year</th>\n",
              "      <td>0.00</td>\n",
              "    </tr>\n",
              "    <tr>\n",
              "      <th>City</th>\n",
              "      <td>0.00</td>\n",
              "    </tr>\n",
              "    <tr>\n",
              "      <th>Sport</th>\n",
              "      <td>0.00</td>\n",
              "    </tr>\n",
              "    <tr>\n",
              "      <th>Discipline</th>\n",
              "      <td>0.00</td>\n",
              "    </tr>\n",
              "    <tr>\n",
              "      <th>Athlete</th>\n",
              "      <td>0.00</td>\n",
              "    </tr>\n",
              "    <tr>\n",
              "      <th>Gender</th>\n",
              "      <td>0.00</td>\n",
              "    </tr>\n",
              "    <tr>\n",
              "      <th>Event</th>\n",
              "      <td>0.00</td>\n",
              "    </tr>\n",
              "    <tr>\n",
              "      <th>Medal</th>\n",
              "      <td>0.00</td>\n",
              "    </tr>\n",
              "  </tbody>\n",
              "</table>\n",
              "</div>"
            ],
            "text/plain": [
              "                Percentage of Missing of Data\n",
              "GDP per Capita                           2.33\n",
              "Population                               0.18\n",
              "Country                                  0.00\n",
              "Code                                     0.00\n",
              "Year                                     0.00\n",
              "City                                     0.00\n",
              "Sport                                    0.00\n",
              "Discipline                               0.00\n",
              "Athlete                                  0.00\n",
              "Gender                                   0.00\n",
              "Event                                    0.00\n",
              "Medal                                    0.00"
            ]
          },
          "metadata": {},
          "execution_count": 17
        }
      ]
    },
    {
      "cell_type": "code",
      "metadata": {
        "colab": {
          "base_uri": "https://localhost:8080/",
          "height": 272
        },
        "id": "14LJCxfHZHwf",
        "outputId": "9545aaf2-eb4b-44cd-8b12-666031dd3549"
      },
      "source": [
        "#We have small percentage of missing value (2.33%), we will drop rows with missing data.\n",
        "summer_olp = summer_olp.dropna()\n",
        "summer_olp.head()"
      ],
      "execution_count": 18,
      "outputs": [
        {
          "output_type": "execute_result",
          "data": {
            "text/html": [
              "<div>\n",
              "<style scoped>\n",
              "    .dataframe tbody tr th:only-of-type {\n",
              "        vertical-align: middle;\n",
              "    }\n",
              "\n",
              "    .dataframe tbody tr th {\n",
              "        vertical-align: top;\n",
              "    }\n",
              "\n",
              "    .dataframe thead th {\n",
              "        text-align: right;\n",
              "    }\n",
              "</style>\n",
              "<table border=\"1\" class=\"dataframe\">\n",
              "  <thead>\n",
              "    <tr style=\"text-align: right;\">\n",
              "      <th></th>\n",
              "      <th>Country</th>\n",
              "      <th>Code</th>\n",
              "      <th>Population</th>\n",
              "      <th>GDP per Capita</th>\n",
              "      <th>Year</th>\n",
              "      <th>City</th>\n",
              "      <th>Sport</th>\n",
              "      <th>Discipline</th>\n",
              "      <th>Athlete</th>\n",
              "      <th>Gender</th>\n",
              "      <th>Event</th>\n",
              "      <th>Medal</th>\n",
              "    </tr>\n",
              "  </thead>\n",
              "  <tbody>\n",
              "    <tr>\n",
              "      <th>0</th>\n",
              "      <td>Afghanistan</td>\n",
              "      <td>AFG</td>\n",
              "      <td>32526562.0</td>\n",
              "      <td>594.323081</td>\n",
              "      <td>2008</td>\n",
              "      <td>Beijing</td>\n",
              "      <td>Taekwondo</td>\n",
              "      <td>Taekwondo</td>\n",
              "      <td>NIKPAI, Rohullah</td>\n",
              "      <td>Men</td>\n",
              "      <td>- 58 KG</td>\n",
              "      <td>Bronze</td>\n",
              "    </tr>\n",
              "    <tr>\n",
              "      <th>1</th>\n",
              "      <td>Afghanistan</td>\n",
              "      <td>AFG</td>\n",
              "      <td>32526562.0</td>\n",
              "      <td>594.323081</td>\n",
              "      <td>2012</td>\n",
              "      <td>London</td>\n",
              "      <td>Taekwondo</td>\n",
              "      <td>Taekwondo</td>\n",
              "      <td>NIKPAI, Rohullah</td>\n",
              "      <td>Men</td>\n",
              "      <td>58 - 68 KG</td>\n",
              "      <td>Bronze</td>\n",
              "    </tr>\n",
              "    <tr>\n",
              "      <th>2</th>\n",
              "      <td>Algeria</td>\n",
              "      <td>ALG</td>\n",
              "      <td>39666519.0</td>\n",
              "      <td>4206.031232</td>\n",
              "      <td>1984</td>\n",
              "      <td>Los Angeles</td>\n",
              "      <td>Boxing</td>\n",
              "      <td>Boxing</td>\n",
              "      <td>ZAOUI, Mohamed</td>\n",
              "      <td>Men</td>\n",
              "      <td>71-75KG</td>\n",
              "      <td>Bronze</td>\n",
              "    </tr>\n",
              "    <tr>\n",
              "      <th>3</th>\n",
              "      <td>Algeria</td>\n",
              "      <td>ALG</td>\n",
              "      <td>39666519.0</td>\n",
              "      <td>4206.031232</td>\n",
              "      <td>1984</td>\n",
              "      <td>Los Angeles</td>\n",
              "      <td>Boxing</td>\n",
              "      <td>Boxing</td>\n",
              "      <td>MOUSSA, Mustapha</td>\n",
              "      <td>Men</td>\n",
              "      <td>75 - 81KG (Light-Heavyweight)</td>\n",
              "      <td>Bronze</td>\n",
              "    </tr>\n",
              "    <tr>\n",
              "      <th>4</th>\n",
              "      <td>Algeria</td>\n",
              "      <td>ALG</td>\n",
              "      <td>39666519.0</td>\n",
              "      <td>4206.031232</td>\n",
              "      <td>1992</td>\n",
              "      <td>Barcelona</td>\n",
              "      <td>Athletics</td>\n",
              "      <td>Athletics</td>\n",
              "      <td>BOULMERKA, Hassiba</td>\n",
              "      <td>Women</td>\n",
              "      <td>1500M</td>\n",
              "      <td>Gold</td>\n",
              "    </tr>\n",
              "  </tbody>\n",
              "</table>\n",
              "</div>"
            ],
            "text/plain": [
              "       Country Code  Population  ...  Gender                          Event   Medal\n",
              "0  Afghanistan  AFG  32526562.0  ...     Men                        - 58 KG  Bronze\n",
              "1  Afghanistan  AFG  32526562.0  ...     Men                     58 - 68 KG  Bronze\n",
              "2      Algeria  ALG  39666519.0  ...     Men                        71-75KG  Bronze\n",
              "3      Algeria  ALG  39666519.0  ...     Men  75 - 81KG (Light-Heavyweight)  Bronze\n",
              "4      Algeria  ALG  39666519.0  ...   Women                          1500M    Gold\n",
              "\n",
              "[5 rows x 12 columns]"
            ]
          },
          "metadata": {},
          "execution_count": 18
        }
      ]
    },
    {
      "cell_type": "code",
      "metadata": {
        "colab": {
          "base_uri": "https://localhost:8080/"
        },
        "id": "I0VB1g5nZ08o",
        "outputId": "d0cffb33-e287-4aef-d34c-ee7a2249c41f"
      },
      "source": [
        "#To check if there is still missing data\n",
        "summer_olp.isnull().sum().any()"
      ],
      "execution_count": 19,
      "outputs": [
        {
          "output_type": "execute_result",
          "data": {
            "text/plain": [
              "False"
            ]
          },
          "metadata": {},
          "execution_count": 19
        }
      ]
    },
    {
      "cell_type": "markdown",
      "metadata": {
        "id": "OzEqZ01jZ_Oq"
      },
      "source": [
        "Now, we don't have any mising data.\n"
      ]
    },
    {
      "cell_type": "code",
      "metadata": {
        "colab": {
          "base_uri": "https://localhost:8080/"
        },
        "id": "Bi6nCHXDxhML",
        "outputId": "99a33964-af76-4701-f369-eafb13303852"
      },
      "source": [
        "summer_olp.nunique()"
      ],
      "execution_count": 20,
      "outputs": [
        {
          "output_type": "execute_result",
          "data": {
            "text/plain": [
              "Country             118\n",
              "Code                118\n",
              "Population          118\n",
              "GDP per Capita      118\n",
              "Year                 27\n",
              "City                 22\n",
              "Sport                43\n",
              "Discipline           67\n",
              "Athlete           18590\n",
              "Gender                2\n",
              "Event               666\n",
              "Medal                 3\n",
              "dtype: int64"
            ]
          },
          "metadata": {},
          "execution_count": 20
        }
      ]
    },
    {
      "cell_type": "markdown",
      "metadata": {
        "id": "gsmyj_JTa5a0"
      },
      "source": [
        "To check for unique items in our categorical Features"
      ]
    },
    {
      "cell_type": "code",
      "metadata": {
        "colab": {
          "base_uri": "https://localhost:8080/"
        },
        "id": "TT1TkMoTbJif",
        "outputId": "64f29197-2652-427b-b157-14e9c2bcaf16"
      },
      "source": [
        "\n",
        "#Checking to see the unique Country\n",
        "print(summer_olp.Country.unique())\n",
        "\n",
        "\n",
        "print(f'Total number of Country that participated in the Olympic games from 1896 10 2012: {len(summer_olp.Country.unique())}')"
      ],
      "execution_count": 17,
      "outputs": [
        {
          "output_type": "stream",
          "name": "stdout",
          "text": [
            "['Afghanistan' 'Algeria' 'Argentina' 'Armenia' 'Australia' 'Austria'\n",
            " 'Azerbaijan' 'Bahamas' 'Bahrain' 'Barbados' 'Belarus' 'Belgium'\n",
            " 'Botswana' 'Brazil' 'Bulgaria' 'Burundi' 'Cameroon' 'Canada' 'Chile'\n",
            " 'China' 'Colombia' 'Costa Rica' \"Cote d'Ivoire\" 'Croatia' 'Cyprus'\n",
            " 'Czech Republic' 'Denmark' 'Djibouti' 'Dominican Republic' 'Ecuador'\n",
            " 'Egypt' 'Estonia' 'Ethiopia' 'Finland' 'France' 'Gabon' 'Georgia'\n",
            " 'Germany' 'Ghana' 'Greece' 'Grenada' 'Guatemala' 'Guyana' 'Haiti'\n",
            " 'Hong Kong*' 'Hungary' 'Iceland' 'India' 'Indonesia' 'Iraq' 'Ireland'\n",
            " 'Israel' 'Italy' 'Jamaica' 'Japan' 'Kazakhstan' 'Kenya' 'Korea, South'\n",
            " 'Kuwait' 'Kyrgyzstan' 'Latvia' 'Lebanon' 'Lithuania' 'Luxembourg'\n",
            " 'Macedonia' 'Malaysia' 'Mauritius' 'Mexico' 'Moldova' 'Mongolia'\n",
            " 'Morocco' 'Mozambique' 'Namibia' 'Netherlands' 'New Zealand' 'Niger'\n",
            " 'Nigeria' 'Norway' 'Pakistan' 'Panama' 'Paraguay' 'Peru' 'Philippines'\n",
            " 'Poland' 'Portugal' 'Qatar' 'Russia' 'Saudi Arabia' 'Senegal' 'Serbia'\n",
            " 'Singapore' 'Slovakia' 'Slovenia' 'South Africa' 'Spain' 'Sri Lanka'\n",
            " 'Sudan' 'Suriname' 'Sweden' 'Switzerland' 'Tajikistan' 'Tanzania'\n",
            " 'Thailand' 'Togo' 'Tonga' 'Trinidad and Tobago' 'Tunisia' 'Turkey'\n",
            " 'Uganda' 'Ukraine' 'United Arab Emirates' 'United Kingdom'\n",
            " 'United States' 'Uruguay' 'Uzbekistan' 'Vietnam' 'Zambia' 'Zimbabwe']\n",
            "Total number of Country that participated in the Olympic games from 1896 10 2012: 118\n"
          ]
        }
      ]
    },
    {
      "cell_type": "code",
      "metadata": {
        "colab": {
          "base_uri": "https://localhost:8080/"
        },
        "id": "ZZwOrPtPcEvN",
        "outputId": "86703ac3-afeb-4995-dce4-5dae6dee7f31"
      },
      "source": [
        "#checking to see the  uniques year\n",
        "print(summer_olp.Year.unique())\n",
        "print(f\"The total number of years: {len(summer_olp.Year.unique())}\")"
      ],
      "execution_count": 39,
      "outputs": [
        {
          "output_type": "stream",
          "name": "stdout",
          "text": [
            "[2008 2012 1984 1992 1996 2000 1924 1928 1932 1936 1948 1952 1956 1960\n",
            " 1964 1968 1972 1988 2004 1896 1900 1920 1976 1980 1904 1908 1912]\n",
            "The total number of year: 27\n"
          ]
        }
      ]
    },
    {
      "cell_type": "code",
      "metadata": {
        "colab": {
          "base_uri": "https://localhost:8080/"
        },
        "id": "xZPZQhsHdW5d",
        "outputId": "6b26a6be-28f2-4c4b-91ae-5a3f2287930d"
      },
      "source": [
        "#checking to see the  host city\n",
        "print(summer_olp.City.unique())\n",
        "print(f\"The total number of host City: {len(summer_olp.City.unique())}\")"
      ],
      "execution_count": 21,
      "outputs": [
        {
          "output_type": "stream",
          "name": "stdout",
          "text": [
            "['Beijing' 'London' 'Los Angeles' 'Barcelona' 'Atlanta' 'Sydney' 'Paris'\n",
            " 'Amsterdam' 'Berlin' 'Helsinki' 'Melbourne / Stockholm' 'Rome' 'Tokyo'\n",
            " 'Mexico' 'Munich' 'Seoul' 'Athens' 'Antwerp' 'Montreal' 'Moscow'\n",
            " 'St Louis' 'Stockholm']\n",
            "The total number of host City: 22\n"
          ]
        }
      ]
    },
    {
      "cell_type": "code",
      "metadata": {
        "colab": {
          "base_uri": "https://localhost:8080/"
        },
        "id": "9iNm2-tddmFB",
        "outputId": "1a2bd9b1-984e-4997-b2b5-bdee6bcc4411"
      },
      "source": [
        "#checking to see the  unique Sport\n",
        "print(summer_olp.Sport.unique())\n",
        "print(f\"The total number of Sport: {len(summer_olp.Sport.unique())}\")"
      ],
      "execution_count": 22,
      "outputs": [
        {
          "output_type": "stream",
          "name": "stdout",
          "text": [
            "['Taekwondo' 'Boxing' 'Athletics' 'Judo' 'Polo' 'Aquatics' 'Fencing'\n",
            " 'Football' 'Rowing' 'Sailing' 'Shooting' 'Weightlifting' 'Equestrian'\n",
            " 'Tennis' 'Volleyball' 'Hockey' 'Basketball' 'Cycling' 'Wrestling'\n",
            " 'Canoe / Kayak' 'Softball' 'Archery' 'Gymnastics' 'Triathlon' 'Baseball'\n",
            " 'Canoe' 'Handball' 'Modern Pentathlon' 'Tug of War' 'Golf' 'Lacrosse'\n",
            " 'Ice Hockey' 'Table Tennis' 'Badminton' 'Skating' 'Basque Pelota'\n",
            " 'Cricket' 'Croquet' 'Rugby' 'Water Motorsports' 'Jeu de paume' 'Rackets'\n",
            " 'Roque']\n",
            "The total number of Sport: 43\n"
          ]
        }
      ]
    },
    {
      "cell_type": "code",
      "metadata": {
        "colab": {
          "base_uri": "https://localhost:8080/"
        },
        "id": "4P3bx6bbylMu",
        "outputId": "183f8ad9-8198-4a0d-b342-73d4128df934"
      },
      "source": [
        "#checking to see the  unique Event\n",
        "# print(summer_olp.Event.unique())\n",
        "print(f\"The total number of Event: {len(summer_olp.Event.unique())}\")"
      ],
      "execution_count": 23,
      "outputs": [
        {
          "output_type": "stream",
          "name": "stdout",
          "text": [
            "The total number of Event: 666\n"
          ]
        }
      ]
    },
    {
      "cell_type": "code",
      "metadata": {
        "colab": {
          "base_uri": "https://localhost:8080/"
        },
        "id": "u9ZHvnhkd4w0",
        "outputId": "85c2982f-ed16-4828-f452-cd9e83d5a072"
      },
      "source": [
        "#checking to see the  unique Discipline\n",
        "print(summer_olp.Discipline.unique())\n",
        "print(f\"The total number of Discipline: {len(summer_olp.Discipline.unique())}\")"
      ],
      "execution_count": 24,
      "outputs": [
        {
          "output_type": "stream",
          "name": "stdout",
          "text": [
            "['Taekwondo' 'Boxing' 'Athletics' 'Judo' 'Polo' 'Swimming' 'Fencing'\n",
            " 'Football' 'Rowing' 'Sailing' 'Shooting' 'Weightlifting' 'Eventing'\n",
            " 'Tennis' 'Volleyball' 'Hockey' 'Basketball' 'Cycling Track'\n",
            " 'Wrestling Free.' 'Wrestling Gre-R' 'Wrestling Freestyle' 'Diving'\n",
            " 'Canoe / Kayak F' 'Cycling Road' 'Canoe / Kayak S' 'Softball'\n",
            " 'Beach volley.' 'Water polo' 'Archery' 'Trampoline' 'Triathlon'\n",
            " 'Baseball' 'Water Polo' 'Canoe Slalom' 'Canoe Sprint' 'Cycling BMX'\n",
            " 'Dressage' 'Handball' 'Jumping' 'Artistic G.' 'Rhythmic G.'\n",
            " 'Modern Pentath.' 'Gymnastics Rhythmic' 'Vaulting' 'Tug of War'\n",
            " 'Mountain Bike' 'Gymnastics Artistic' 'Modern Pentathlon'\n",
            " 'Beach Volleyball' 'Golf' 'Lacrosse' 'Ice Hockey' 'Synchronized S.'\n",
            " 'Marathon swimming' 'Table Tennis' 'Badminton' 'Synchronized Swimming'\n",
            " 'Figure skating' 'Basque Pelota' 'Cricket' 'Croquet' 'Rugby'\n",
            " 'Water Motorspor' 'BMX' 'Jeu de Paume' 'Rackets' 'Roque']\n",
            "The total number of Discipline: 67\n"
          ]
        }
      ]
    },
    {
      "cell_type": "markdown",
      "metadata": {
        "id": "RCazpfjCyXJP"
      },
      "source": [
        "As per the above data we have 43 sports, 67 discipline, and 666 events in summer Olympics."
      ]
    },
    {
      "cell_type": "markdown",
      "metadata": {
        "id": "ljqJoPCmeQ8H"
      },
      "source": [
        "We can see Sport is differnet from Disclipline. We can say column \"Discipline\" is a subset of column \"Sport\"."
      ]
    },
    {
      "cell_type": "code",
      "metadata": {
        "colab": {
          "base_uri": "https://localhost:8080/"
        },
        "id": "HD2N9NcxgoFv",
        "outputId": "d8f2a0d1-8a93-42a5-9dcf-3b795403c76d"
      },
      "source": [
        "#checking to see the  uniques Athletes\n",
        "print(summer_olp.Athlete.unique())\n",
        "print(f\"The total number of Athlete: {len(summer_olp.Athlete.unique())}\")"
      ],
      "execution_count": 25,
      "outputs": [
        {
          "output_type": "stream",
          "name": "stdout",
          "text": [
            "['NIKPAI, Rohullah' 'ZAOUI, Mohamed' 'MOUSSA, Mustapha' ... 'VOLK, Helen'\n",
            " 'WATSON, Linda Margaret' 'COVENTRY, Kirsty']\n",
            "The total number of Athlete: 18590\n"
          ]
        }
      ]
    },
    {
      "cell_type": "code",
      "metadata": {
        "colab": {
          "base_uri": "https://localhost:8080/"
        },
        "id": "Rv3XQhAOgygW",
        "outputId": "769919e8-6282-4e68-a0de-3fde248ae479"
      },
      "source": [
        "#checking to see the  unique Medal\n",
        "print(summer_olp.Medal.unique())\n",
        "print(f\"The total number of Medal: {len(summer_olp.Medal.unique())}\")"
      ],
      "execution_count": 26,
      "outputs": [
        {
          "output_type": "stream",
          "name": "stdout",
          "text": [
            "['Bronze' 'Gold' 'Silver']\n",
            "The total number of Medal: 3\n"
          ]
        }
      ]
    },
    {
      "cell_type": "markdown",
      "metadata": {
        "id": "RLrM5BbF-ed_"
      },
      "source": [
        "Top Countries Participating in the OLympics"
      ]
    },
    {
      "cell_type": "code",
      "metadata": {
        "colab": {
          "base_uri": "https://localhost:8080/",
          "height": 359
        },
        "id": "KpFQL3cdfVwQ",
        "outputId": "661b8f1e-0ba7-4bdf-a78f-88032e03d723"
      },
      "source": [
        "Top_Countries =summer_olp.value_counts([\"Country\"]).reset_index(name= \"Counts\")[:10]\n",
        "Top_Countries"
      ],
      "execution_count": 27,
      "outputs": [
        {
          "output_type": "execute_result",
          "data": {
            "text/html": [
              "<div>\n",
              "<style scoped>\n",
              "    .dataframe tbody tr th:only-of-type {\n",
              "        vertical-align: middle;\n",
              "    }\n",
              "\n",
              "    .dataframe tbody tr th {\n",
              "        vertical-align: top;\n",
              "    }\n",
              "\n",
              "    .dataframe thead th {\n",
              "        text-align: right;\n",
              "    }\n",
              "</style>\n",
              "<table border=\"1\" class=\"dataframe\">\n",
              "  <thead>\n",
              "    <tr style=\"text-align: right;\">\n",
              "      <th></th>\n",
              "      <th>Country</th>\n",
              "      <th>Counts</th>\n",
              "    </tr>\n",
              "  </thead>\n",
              "  <tbody>\n",
              "    <tr>\n",
              "      <th>0</th>\n",
              "      <td>United States</td>\n",
              "      <td>4585</td>\n",
              "    </tr>\n",
              "    <tr>\n",
              "      <th>1</th>\n",
              "      <td>United Kingdom</td>\n",
              "      <td>1720</td>\n",
              "    </tr>\n",
              "    <tr>\n",
              "      <th>2</th>\n",
              "      <td>France</td>\n",
              "      <td>1396</td>\n",
              "    </tr>\n",
              "    <tr>\n",
              "      <th>3</th>\n",
              "      <td>Germany</td>\n",
              "      <td>1305</td>\n",
              "    </tr>\n",
              "    <tr>\n",
              "      <th>4</th>\n",
              "      <td>Italy</td>\n",
              "      <td>1296</td>\n",
              "    </tr>\n",
              "    <tr>\n",
              "      <th>5</th>\n",
              "      <td>Australia</td>\n",
              "      <td>1189</td>\n",
              "    </tr>\n",
              "    <tr>\n",
              "      <th>6</th>\n",
              "      <td>Hungary</td>\n",
              "      <td>1079</td>\n",
              "    </tr>\n",
              "    <tr>\n",
              "      <th>7</th>\n",
              "      <td>Sweden</td>\n",
              "      <td>1044</td>\n",
              "    </tr>\n",
              "    <tr>\n",
              "      <th>8</th>\n",
              "      <td>Netherlands</td>\n",
              "      <td>851</td>\n",
              "    </tr>\n",
              "    <tr>\n",
              "      <th>9</th>\n",
              "      <td>China</td>\n",
              "      <td>807</td>\n",
              "    </tr>\n",
              "  </tbody>\n",
              "</table>\n",
              "</div>"
            ],
            "text/plain": [
              "          Country  Counts\n",
              "0   United States    4585\n",
              "1  United Kingdom    1720\n",
              "2          France    1396\n",
              "3         Germany    1305\n",
              "4           Italy    1296\n",
              "5       Australia    1189\n",
              "6         Hungary    1079\n",
              "7          Sweden    1044\n",
              "8     Netherlands     851\n",
              "9           China     807"
            ]
          },
          "metadata": {},
          "execution_count": 27
        }
      ]
    },
    {
      "cell_type": "code",
      "metadata": {
        "colab": {
          "base_uri": "https://localhost:8080/",
          "height": 679
        },
        "id": "SKJA4WwW803z",
        "outputId": "5059e4b5-5f60-4baf-9d30-a5a44c1b4978"
      },
      "source": [
        "sns.set_style('darkgrid')\n",
        "matplotlib.rcParams['figure.figsize'] = (12, 10)\n",
        "\n",
        "plt.title(\"Overall Participation CountryWise\")\n",
        "barplot = sns.barplot(data=Top_Countries, x=\"Country\", y=\"Counts\", hue=\"Country\", palette=\"CMRmap\", dodge=False)\n",
        "barplot.set_xticklabels(rotation=50, labels=Top_Countries.Country)\n",
        "plt.ylabel(\"Counts\")\n",
        "plt.show()\n"
      ],
      "execution_count": 28,
      "outputs": [
        {
          "output_type": "display_data",
          "data": {
            "image/png": "[encoded data removed]",
            "text/plain": [
              "<Figure size 864x720 with 1 Axes>"
            ]
          },
          "metadata": {}
        }
      ]
    },
    {
      "cell_type": "markdown",
      "metadata": {
        "id": "HoKKHyRsm2yi"
      },
      "source": [
        "As USA has historically won maximum no of medals it would make sense the participation is highest from USA."
      ]
    },
    {
      "cell_type": "markdown",
      "metadata": {
        "id": "pXMhWBp6nNQc"
      },
      "source": [
        "**Gender Participation**"
      ]
    },
    {
      "cell_type": "code",
      "metadata": {
        "colab": {
          "base_uri": "https://localhost:8080/",
          "height": 111
        },
        "id": "OZLCUC-tIAFA",
        "outputId": "661c05d9-e6d5-45d7-9e4c-0895f85a1b8e"
      },
      "source": [
        "\n",
        "Gender_Counts =summer_olp.value_counts([\"Gender\"]).reset_index(name= \"Counts\")[:10]\n",
        "\n",
        "#To get the percentage\n",
        "Gender_Counts['Percentage %'] = round(Gender_Counts.Counts / Gender_Counts.Counts.sum() * 100, 2)\n",
        "\n",
        "Gender_Counts\n",
        "\n"
      ],
      "execution_count": 29,
      "outputs": [
        {
          "output_type": "execute_result",
          "data": {
            "text/html": [
              "<div>\n",
              "<style scoped>\n",
              "    .dataframe tbody tr th:only-of-type {\n",
              "        vertical-align: middle;\n",
              "    }\n",
              "\n",
              "    .dataframe tbody tr th {\n",
              "        vertical-align: top;\n",
              "    }\n",
              "\n",
              "    .dataframe thead th {\n",
              "        text-align: right;\n",
              "    }\n",
              "</style>\n",
              "<table border=\"1\" class=\"dataframe\">\n",
              "  <thead>\n",
              "    <tr style=\"text-align: right;\">\n",
              "      <th></th>\n",
              "      <th>Gender</th>\n",
              "      <th>Counts</th>\n",
              "      <th>Percentage %</th>\n",
              "    </tr>\n",
              "  </thead>\n",
              "  <tbody>\n",
              "    <tr>\n",
              "      <th>0</th>\n",
              "      <td>Men</td>\n",
              "      <td>18581</td>\n",
              "      <td>73.9</td>\n",
              "    </tr>\n",
              "    <tr>\n",
              "      <th>1</th>\n",
              "      <td>Women</td>\n",
              "      <td>6561</td>\n",
              "      <td>26.1</td>\n",
              "    </tr>\n",
              "  </tbody>\n",
              "</table>\n",
              "</div>"
            ],
            "text/plain": [
              "  Gender  Counts  Percentage %\n",
              "0    Men   18581          73.9\n",
              "1  Women    6561          26.1"
            ]
          },
          "metadata": {},
          "execution_count": 29
        }
      ]
    },
    {
      "cell_type": "code",
      "metadata": {
        "colab": {
          "base_uri": "https://localhost:8080/",
          "height": 603
        },
        "id": "8TZ72vaTc5-r",
        "outputId": "68a0aa9b-a998-42da-c4b9-255bc48ea628"
      },
      "source": [
        "Gender_percentage = Gender_Counts[\"Percentage %\"].to_list()\n",
        "plt.title('Gender Distribution', fontsize=30, loc='Right')\n",
        "plt.pie(Gender_percentage, colors=['#009047','#E23651'], labels= [\"Men\", \"Women\"], radius=1.2, autopct= \"%0.1f%%\", pctdistance = 0.77,\n",
        "        textprops = {\"size\" : 17, \"color\" : \"#000000\"}, explode= [0.00, 0.00])\n",
        "\n",
        "centre_circle = plt.Circle((0,0), 0.8, fc = \"w\")\n",
        "fig = plt.gcf()\n",
        "fig.gca().add_artist(centre_circle)\n",
        "plt.show()"
      ],
      "execution_count": 32,
      "outputs": [
        {
          "output_type": "display_data",
          "data": {
            "image/png": "[encoded data removed]",
            "text/plain": [
              "<Figure size 864x720 with 1 Axes>"
            ]
          },
          "metadata": {}
        }
      ]
    },
    {
      "cell_type": "markdown",
      "metadata": {
        "id": "QaboWoousEV8"
      },
      "source": [
        "Male seems to be dominating in terms of participation. I used colors from Olympic logo for the doungnurt chart"
      ]
    },
    {
      "cell_type": "markdown",
      "metadata": {
        "id": "uCHHfLb2_eJv"
      },
      "source": [
        "I'm curious to know the female participants across the years."
      ]
    },
    {
      "cell_type": "code",
      "metadata": {
        "id": "4zrj1r8utN7C"
      },
      "source": [
        "summer_olp.head()"
      ],
      "execution_count": null,
      "outputs": []
    },
    {
      "cell_type": "markdown",
      "metadata": {
        "id": "QFKnWhBxtNdm"
      },
      "source": [
        ""
      ]
    },
    {
      "cell_type": "code",
      "metadata": {
        "id": "TOZqKWxczXcy"
      },
      "source": [
        "#To filter gender that are  female and Year\n",
        "female_participants = summer_olp[(summer_olp[\"Gender\"] == \"Women\")][[\"Gender\", \"Year\"]]\n",
        "\n",
        "#To group by year\n",
        "female_participants = female_participants.groupby('Year').count().reset_index()"
      ],
      "execution_count": 34,
      "outputs": []
    },
    {
      "cell_type": "code",
      "metadata": {
        "colab": {
          "base_uri": "https://localhost:8080/",
          "height": 855
        },
        "id": "Q3u1rW-bzv-O",
        "outputId": "e49f7224-3eeb-4bb9-cbf4-800e961ef99d"
      },
      "source": [
        "female_participants"
      ],
      "execution_count": 35,
      "outputs": [
        {
          "output_type": "execute_result",
          "data": {
            "text/html": [
              "<div>\n",
              "<style scoped>\n",
              "    .dataframe tbody tr th:only-of-type {\n",
              "        vertical-align: middle;\n",
              "    }\n",
              "\n",
              "    .dataframe tbody tr th {\n",
              "        vertical-align: top;\n",
              "    }\n",
              "\n",
              "    .dataframe thead th {\n",
              "        text-align: right;\n",
              "    }\n",
              "</style>\n",
              "<table border=\"1\" class=\"dataframe\">\n",
              "  <thead>\n",
              "    <tr style=\"text-align: right;\">\n",
              "      <th></th>\n",
              "      <th>Year</th>\n",
              "      <th>Gender</th>\n",
              "    </tr>\n",
              "  </thead>\n",
              "  <tbody>\n",
              "    <tr>\n",
              "      <th>0</th>\n",
              "      <td>1900</td>\n",
              "      <td>7</td>\n",
              "    </tr>\n",
              "    <tr>\n",
              "      <th>1</th>\n",
              "      <td>1904</td>\n",
              "      <td>12</td>\n",
              "    </tr>\n",
              "    <tr>\n",
              "      <th>2</th>\n",
              "      <td>1908</td>\n",
              "      <td>15</td>\n",
              "    </tr>\n",
              "    <tr>\n",
              "      <th>3</th>\n",
              "      <td>1912</td>\n",
              "      <td>28</td>\n",
              "    </tr>\n",
              "    <tr>\n",
              "      <th>4</th>\n",
              "      <td>1920</td>\n",
              "      <td>42</td>\n",
              "    </tr>\n",
              "    <tr>\n",
              "      <th>5</th>\n",
              "      <td>1924</td>\n",
              "      <td>51</td>\n",
              "    </tr>\n",
              "    <tr>\n",
              "      <th>6</th>\n",
              "      <td>1928</td>\n",
              "      <td>95</td>\n",
              "    </tr>\n",
              "    <tr>\n",
              "      <th>7</th>\n",
              "      <td>1932</td>\n",
              "      <td>60</td>\n",
              "    </tr>\n",
              "    <tr>\n",
              "      <th>8</th>\n",
              "      <td>1936</td>\n",
              "      <td>76</td>\n",
              "    </tr>\n",
              "    <tr>\n",
              "      <th>9</th>\n",
              "      <td>1948</td>\n",
              "      <td>88</td>\n",
              "    </tr>\n",
              "    <tr>\n",
              "      <th>10</th>\n",
              "      <td>1952</td>\n",
              "      <td>93</td>\n",
              "    </tr>\n",
              "    <tr>\n",
              "      <th>11</th>\n",
              "      <td>1956</td>\n",
              "      <td>90</td>\n",
              "    </tr>\n",
              "    <tr>\n",
              "      <th>12</th>\n",
              "      <td>1960</td>\n",
              "      <td>64</td>\n",
              "    </tr>\n",
              "    <tr>\n",
              "      <th>13</th>\n",
              "      <td>1964</td>\n",
              "      <td>114</td>\n",
              "    </tr>\n",
              "    <tr>\n",
              "      <th>14</th>\n",
              "      <td>1968</td>\n",
              "      <td>107</td>\n",
              "    </tr>\n",
              "    <tr>\n",
              "      <th>15</th>\n",
              "      <td>1972</td>\n",
              "      <td>94</td>\n",
              "    </tr>\n",
              "    <tr>\n",
              "      <th>16</th>\n",
              "      <td>1976</td>\n",
              "      <td>150</td>\n",
              "    </tr>\n",
              "    <tr>\n",
              "      <th>17</th>\n",
              "      <td>1980</td>\n",
              "      <td>106</td>\n",
              "    </tr>\n",
              "    <tr>\n",
              "      <th>18</th>\n",
              "      <td>1984</td>\n",
              "      <td>364</td>\n",
              "    </tr>\n",
              "    <tr>\n",
              "      <th>19</th>\n",
              "      <td>1988</td>\n",
              "      <td>284</td>\n",
              "    </tr>\n",
              "    <tr>\n",
              "      <th>20</th>\n",
              "      <td>1992</td>\n",
              "      <td>450</td>\n",
              "    </tr>\n",
              "    <tr>\n",
              "      <th>21</th>\n",
              "      <td>1996</td>\n",
              "      <td>725</td>\n",
              "    </tr>\n",
              "    <tr>\n",
              "      <th>22</th>\n",
              "      <td>2000</td>\n",
              "      <td>827</td>\n",
              "    </tr>\n",
              "    <tr>\n",
              "      <th>23</th>\n",
              "      <td>2004</td>\n",
              "      <td>842</td>\n",
              "    </tr>\n",
              "    <tr>\n",
              "      <th>24</th>\n",
              "      <td>2008</td>\n",
              "      <td>894</td>\n",
              "    </tr>\n",
              "    <tr>\n",
              "      <th>25</th>\n",
              "      <td>2012</td>\n",
              "      <td>883</td>\n",
              "    </tr>\n",
              "  </tbody>\n",
              "</table>\n",
              "</div>"
            ],
            "text/plain": [
              "    Year  Gender\n",
              "0   1900       7\n",
              "1   1904      12\n",
              "2   1908      15\n",
              "3   1912      28\n",
              "4   1920      42\n",
              "5   1924      51\n",
              "6   1928      95\n",
              "7   1932      60\n",
              "8   1936      76\n",
              "9   1948      88\n",
              "10  1952      93\n",
              "11  1956      90\n",
              "12  1960      64\n",
              "13  1964     114\n",
              "14  1968     107\n",
              "15  1972      94\n",
              "16  1976     150\n",
              "17  1980     106\n",
              "18  1984     364\n",
              "19  1988     284\n",
              "20  1992     450\n",
              "21  1996     725\n",
              "22  2000     827\n",
              "23  2004     842\n",
              "24  2008     894\n",
              "25  2012     883"
            ]
          },
          "metadata": {},
          "execution_count": 35
        }
      ]
    },
    {
      "cell_type": "code",
      "metadata": {
        "colab": {
          "base_uri": "https://localhost:8080/",
          "height": 404
        },
        "id": "NVMbjCX-pvlp",
        "outputId": "ecf5ad64-60b2-416f-80ed-adc398f23ac2"
      },
      "source": [
        "sns.set_style('darkgrid')\n",
        "# matplotlib.rcParams['figure.figsize'] = (12, 10)\n",
        "plt.figure(figsize=(10,6))\n",
        "sns.lineplot(data=female_participants, x='Year', y='Gender', color= \"red\")\n",
        "plt.title(\"Female Participation over the Years \")\n",
        "\n",
        "plt.show()"
      ],
      "execution_count": 36,
      "outputs": [
        {
          "output_type": "display_data",
          "data": {
            "image/png": "[encoded data removed]",
            "text/plain": [
              "<Figure size 720x432 with 1 Axes>"
            ]
          },
          "metadata": {}
        }
      ]
    },
    {
      "cell_type": "markdown",
      "metadata": {
        "id": "H9Uy7eaooMTV"
      },
      "source": [
        "From the chart above, we can see the Women has increased signifiacntly across the years."
      ]
    },
    {
      "cell_type": "markdown",
      "metadata": {
        "id": "MNGr4eWd7SQa"
      },
      "source": [
        "## Countries that won  the maximum Gold Medals in the Olympics Games"
      ]
    },
    {
      "cell_type": "code",
      "metadata": {
        "colab": {
          "base_uri": "https://localhost:8080/",
          "height": 359
        },
        "id": "d5kkdCKOtnRE",
        "outputId": "9d2b91ac-6dec-4b1c-eec8-fd52a16a5027"
      },
      "source": [
        "Country_by_medal = summer_olp[(summer_olp[\"Medal\"] == \"Gold\")][[\"Country\", \"Medal\"]]\n",
        "Country_by_medal = Country_by_medal.value_counts([\"Country\"]).reset_index(name = \"Counts_of_Gold_Medal\")[:10]\n",
        "Country_by_medal\n",
        "\n"
      ],
      "execution_count": 37,
      "outputs": [
        {
          "output_type": "execute_result",
          "data": {
            "text/html": [
              "<div>\n",
              "<style scoped>\n",
              "    .dataframe tbody tr th:only-of-type {\n",
              "        vertical-align: middle;\n",
              "    }\n",
              "\n",
              "    .dataframe tbody tr th {\n",
              "        vertical-align: top;\n",
              "    }\n",
              "\n",
              "    .dataframe thead th {\n",
              "        text-align: right;\n",
              "    }\n",
              "</style>\n",
              "<table border=\"1\" class=\"dataframe\">\n",
              "  <thead>\n",
              "    <tr style=\"text-align: right;\">\n",
              "      <th></th>\n",
              "      <th>Country</th>\n",
              "      <th>Counts_of_Gold_Medal</th>\n",
              "    </tr>\n",
              "  </thead>\n",
              "  <tbody>\n",
              "    <tr>\n",
              "      <th>0</th>\n",
              "      <td>United States</td>\n",
              "      <td>2235</td>\n",
              "    </tr>\n",
              "    <tr>\n",
              "      <th>1</th>\n",
              "      <td>United Kingdom</td>\n",
              "      <td>546</td>\n",
              "    </tr>\n",
              "    <tr>\n",
              "      <th>2</th>\n",
              "      <td>Italy</td>\n",
              "      <td>476</td>\n",
              "    </tr>\n",
              "    <tr>\n",
              "      <th>3</th>\n",
              "      <td>Germany</td>\n",
              "      <td>452</td>\n",
              "    </tr>\n",
              "    <tr>\n",
              "      <th>4</th>\n",
              "      <td>Hungary</td>\n",
              "      <td>412</td>\n",
              "    </tr>\n",
              "    <tr>\n",
              "      <th>5</th>\n",
              "      <td>France</td>\n",
              "      <td>408</td>\n",
              "    </tr>\n",
              "    <tr>\n",
              "      <th>6</th>\n",
              "      <td>Sweden</td>\n",
              "      <td>349</td>\n",
              "    </tr>\n",
              "    <tr>\n",
              "      <th>7</th>\n",
              "      <td>Australia</td>\n",
              "      <td>312</td>\n",
              "    </tr>\n",
              "    <tr>\n",
              "      <th>8</th>\n",
              "      <td>China</td>\n",
              "      <td>290</td>\n",
              "    </tr>\n",
              "    <tr>\n",
              "      <th>9</th>\n",
              "      <td>Russia</td>\n",
              "      <td>239</td>\n",
              "    </tr>\n",
              "  </tbody>\n",
              "</table>\n",
              "</div>"
            ],
            "text/plain": [
              "          Country  Counts_of_Gold_Medal\n",
              "0   United States                  2235\n",
              "1  United Kingdom                   546\n",
              "2           Italy                   476\n",
              "3         Germany                   452\n",
              "4         Hungary                   412\n",
              "5          France                   408\n",
              "6          Sweden                   349\n",
              "7       Australia                   312\n",
              "8           China                   290\n",
              "9          Russia                   239"
            ]
          },
          "metadata": {},
          "execution_count": 37
        }
      ]
    },
    {
      "cell_type": "code",
      "metadata": {
        "colab": {
          "base_uri": "https://localhost:8080/",
          "height": 679
        },
        "id": "W2RueJZj0VlT",
        "outputId": "e202490f-da38-4345-ff45-5e45134b2d65"
      },
      "source": [
        "sns.set_style('whitegrid')\n",
        "matplotlib.rcParams['figure.figsize'] = (12, 10)\n",
        "\n",
        "plt.title(\"Countries with the Maximum Gold Medals\")\n",
        "barplot = sns.barplot(data=Country_by_medal, x=\"Country\", y=\"Counts_of_Gold_Medal\", hue=\"Country\", palette=\"CMRmap\", dodge=False)\n",
        "barplot.set_xticklabels(rotation=50, labels=Country_by_medal.Country)\n",
        "plt.ylabel(\"Counts_of_Gold_Medal\")\n",
        "plt.show()"
      ],
      "execution_count": 58,
      "outputs": [
        {
          "output_type": "display_data",
          "data": {
            "image/png": "[encoded data removed]",
            "text/plain": [
              "<Figure size 864x720 with 1 Axes>"
            ]
          },
          "metadata": {}
        }
      ]
    },
    {
      "cell_type": "markdown",
      "metadata": {
        "id": "ZNPNV7WT8ISP"
      },
      "source": [
        "US seem to lead the Gold medal charts for the  Summer Olympics Games  \n"
      ]
    },
    {
      "cell_type": "markdown",
      "metadata": {
        "id": "UkaY_sQd_IYa"
      },
      "source": [
        "It will be nice to see the sport that fetch the most Gold medals for United States."
      ]
    },
    {
      "cell_type": "code",
      "metadata": {
        "colab": {
          "base_uri": "https://localhost:8080/",
          "height": 359
        },
        "id": "F62vpVG371HC",
        "outputId": "892523dc-5b90-43ea-e71f-3667d2e82078"
      },
      "source": [
        "Country_by_medal = summer_olp[(summer_olp[\"Medal\"] == \"Gold\") & (summer_olp[\"Country\"] == \"United States\")][[\"Sport\", \"Medal\"]]\n",
        "\n",
        "Country_by_medal = Country_by_medal.value_counts([\"Sport\"]).reset_index(name = \"Counts_of_Gold_Medal\")[:10]\n",
        "\n",
        "Country_by_medal"
      ],
      "execution_count": 63,
      "outputs": [
        {
          "output_type": "execute_result",
          "data": {
            "text/html": [
              "<div>\n",
              "<style scoped>\n",
              "    .dataframe tbody tr th:only-of-type {\n",
              "        vertical-align: middle;\n",
              "    }\n",
              "\n",
              "    .dataframe tbody tr th {\n",
              "        vertical-align: top;\n",
              "    }\n",
              "\n",
              "    .dataframe thead th {\n",
              "        text-align: right;\n",
              "    }\n",
              "</style>\n",
              "<table border=\"1\" class=\"dataframe\">\n",
              "  <thead>\n",
              "    <tr style=\"text-align: right;\">\n",
              "      <th></th>\n",
              "      <th>Sport</th>\n",
              "      <th>Counts_of_Gold_Medal</th>\n",
              "    </tr>\n",
              "  </thead>\n",
              "  <tbody>\n",
              "    <tr>\n",
              "      <th>0</th>\n",
              "      <td>Aquatics</td>\n",
              "      <td>578</td>\n",
              "    </tr>\n",
              "    <tr>\n",
              "      <th>1</th>\n",
              "      <td>Athletics</td>\n",
              "      <td>491</td>\n",
              "    </tr>\n",
              "    <tr>\n",
              "      <th>2</th>\n",
              "      <td>Basketball</td>\n",
              "      <td>258</td>\n",
              "    </tr>\n",
              "    <tr>\n",
              "      <th>3</th>\n",
              "      <td>Rowing</td>\n",
              "      <td>177</td>\n",
              "    </tr>\n",
              "    <tr>\n",
              "      <th>4</th>\n",
              "      <td>Shooting</td>\n",
              "      <td>116</td>\n",
              "    </tr>\n",
              "    <tr>\n",
              "      <th>5</th>\n",
              "      <td>Football</td>\n",
              "      <td>91</td>\n",
              "    </tr>\n",
              "    <tr>\n",
              "      <th>6</th>\n",
              "      <td>Sailing</td>\n",
              "      <td>60</td>\n",
              "    </tr>\n",
              "    <tr>\n",
              "      <th>7</th>\n",
              "      <td>Gymnastics</td>\n",
              "      <td>53</td>\n",
              "    </tr>\n",
              "    <tr>\n",
              "      <th>8</th>\n",
              "      <td>Wrestling</td>\n",
              "      <td>52</td>\n",
              "    </tr>\n",
              "    <tr>\n",
              "      <th>9</th>\n",
              "      <td>Boxing</td>\n",
              "      <td>49</td>\n",
              "    </tr>\n",
              "  </tbody>\n",
              "</table>\n",
              "</div>"
            ],
            "text/plain": [
              "        Sport  Counts_of_Gold_Medal\n",
              "0    Aquatics                   578\n",
              "1   Athletics                   491\n",
              "2  Basketball                   258\n",
              "3      Rowing                   177\n",
              "4    Shooting                   116\n",
              "5    Football                    91\n",
              "6     Sailing                    60\n",
              "7  Gymnastics                    53\n",
              "8   Wrestling                    52\n",
              "9      Boxing                    49"
            ]
          },
          "metadata": {},
          "execution_count": 63
        }
      ]
    },
    {
      "cell_type": "code",
      "metadata": {
        "id": "P8SuTUrQBRwb"
      },
      "source": [
        ""
      ],
      "execution_count": null,
      "outputs": []
    },
    {
      "cell_type": "markdown",
      "metadata": {
        "id": "oFszs5L_-lfT"
      },
      "source": [
        "from the table above, AQUATICS Sport  gave United States  the highest Gold medals across the years."
      ]
    },
    {
      "cell_type": "code",
      "metadata": {
        "colab": {
          "base_uri": "https://localhost:8080/",
          "height": 272
        },
        "id": "59jXG6-B9bFY",
        "outputId": "a9a664b5-5b34-4c45-8c42-66c094c63d55"
      },
      "source": [
        "summer_olp.head()"
      ],
      "execution_count": 64,
      "outputs": [
        {
          "output_type": "execute_result",
          "data": {
            "text/html": [
              "<div>\n",
              "<style scoped>\n",
              "    .dataframe tbody tr th:only-of-type {\n",
              "        vertical-align: middle;\n",
              "    }\n",
              "\n",
              "    .dataframe tbody tr th {\n",
              "        vertical-align: top;\n",
              "    }\n",
              "\n",
              "    .dataframe thead th {\n",
              "        text-align: right;\n",
              "    }\n",
              "</style>\n",
              "<table border=\"1\" class=\"dataframe\">\n",
              "  <thead>\n",
              "    <tr style=\"text-align: right;\">\n",
              "      <th></th>\n",
              "      <th>Country</th>\n",
              "      <th>Code</th>\n",
              "      <th>Population</th>\n",
              "      <th>GDP per Capita</th>\n",
              "      <th>Year</th>\n",
              "      <th>City</th>\n",
              "      <th>Sport</th>\n",
              "      <th>Discipline</th>\n",
              "      <th>Athlete</th>\n",
              "      <th>Gender</th>\n",
              "      <th>Event</th>\n",
              "      <th>Medal</th>\n",
              "    </tr>\n",
              "  </thead>\n",
              "  <tbody>\n",
              "    <tr>\n",
              "      <th>0</th>\n",
              "      <td>Afghanistan</td>\n",
              "      <td>AFG</td>\n",
              "      <td>32526562.0</td>\n",
              "      <td>594.323081</td>\n",
              "      <td>2008</td>\n",
              "      <td>Beijing</td>\n",
              "      <td>Taekwondo</td>\n",
              "      <td>Taekwondo</td>\n",
              "      <td>NIKPAI, Rohullah</td>\n",
              "      <td>Men</td>\n",
              "      <td>- 58 KG</td>\n",
              "      <td>Bronze</td>\n",
              "    </tr>\n",
              "    <tr>\n",
              "      <th>1</th>\n",
              "      <td>Afghanistan</td>\n",
              "      <td>AFG</td>\n",
              "      <td>32526562.0</td>\n",
              "      <td>594.323081</td>\n",
              "      <td>2012</td>\n",
              "      <td>London</td>\n",
              "      <td>Taekwondo</td>\n",
              "      <td>Taekwondo</td>\n",
              "      <td>NIKPAI, Rohullah</td>\n",
              "      <td>Men</td>\n",
              "      <td>58 - 68 KG</td>\n",
              "      <td>Bronze</td>\n",
              "    </tr>\n",
              "    <tr>\n",
              "      <th>2</th>\n",
              "      <td>Algeria</td>\n",
              "      <td>ALG</td>\n",
              "      <td>39666519.0</td>\n",
              "      <td>4206.031232</td>\n",
              "      <td>1984</td>\n",
              "      <td>Los Angeles</td>\n",
              "      <td>Boxing</td>\n",
              "      <td>Boxing</td>\n",
              "      <td>ZAOUI, Mohamed</td>\n",
              "      <td>Men</td>\n",
              "      <td>71-75KG</td>\n",
              "      <td>Bronze</td>\n",
              "    </tr>\n",
              "    <tr>\n",
              "      <th>3</th>\n",
              "      <td>Algeria</td>\n",
              "      <td>ALG</td>\n",
              "      <td>39666519.0</td>\n",
              "      <td>4206.031232</td>\n",
              "      <td>1984</td>\n",
              "      <td>Los Angeles</td>\n",
              "      <td>Boxing</td>\n",
              "      <td>Boxing</td>\n",
              "      <td>MOUSSA, Mustapha</td>\n",
              "      <td>Men</td>\n",
              "      <td>75 - 81KG (Light-Heavyweight)</td>\n",
              "      <td>Bronze</td>\n",
              "    </tr>\n",
              "    <tr>\n",
              "      <th>4</th>\n",
              "      <td>Algeria</td>\n",
              "      <td>ALG</td>\n",
              "      <td>39666519.0</td>\n",
              "      <td>4206.031232</td>\n",
              "      <td>1992</td>\n",
              "      <td>Barcelona</td>\n",
              "      <td>Athletics</td>\n",
              "      <td>Athletics</td>\n",
              "      <td>BOULMERKA, Hassiba</td>\n",
              "      <td>Women</td>\n",
              "      <td>1500M</td>\n",
              "      <td>Gold</td>\n",
              "    </tr>\n",
              "  </tbody>\n",
              "</table>\n",
              "</div>"
            ],
            "text/plain": [
              "       Country Code  Population  ...  Gender                          Event   Medal\n",
              "0  Afghanistan  AFG  32526562.0  ...     Men                        - 58 KG  Bronze\n",
              "1  Afghanistan  AFG  32526562.0  ...     Men                     58 - 68 KG  Bronze\n",
              "2      Algeria  ALG  39666519.0  ...     Men                        71-75KG  Bronze\n",
              "3      Algeria  ALG  39666519.0  ...     Men  75 - 81KG (Light-Heavyweight)  Bronze\n",
              "4      Algeria  ALG  39666519.0  ...   Women                          1500M    Gold\n",
              "\n",
              "[5 rows x 12 columns]"
            ]
          },
          "metadata": {},
          "execution_count": 64
        }
      ]
    },
    {
      "cell_type": "markdown",
      "metadata": {
        "id": "9bU7-aOeA4B2"
      },
      "source": [
        "Individual Number of Medals"
      ]
    },
    {
      "cell_type": "code",
      "metadata": {
        "colab": {
          "base_uri": "https://localhost:8080/",
          "height": 359
        },
        "id": "nFFUr_rD_7_-",
        "outputId": "b47625c5-d525-4bce-f1e9-79bf5ff982d0"
      },
      "source": [
        "Individual_medal = summer_olp[[\"Athlete\",\"Medal\"]]\n",
        "Individual_medal = Individual_medal.value_counts(\"Athlete\").reset_index(name=\"Counts_of_Medals\")[:10]\n",
        "Individual_medal"
      ],
      "execution_count": 38,
      "outputs": [
        {
          "output_type": "execute_result",
          "data": {
            "text/html": [
              "<div>\n",
              "<style scoped>\n",
              "    .dataframe tbody tr th:only-of-type {\n",
              "        vertical-align: middle;\n",
              "    }\n",
              "\n",
              "    .dataframe tbody tr th {\n",
              "        vertical-align: top;\n",
              "    }\n",
              "\n",
              "    .dataframe thead th {\n",
              "        text-align: right;\n",
              "    }\n",
              "</style>\n",
              "<table border=\"1\" class=\"dataframe\">\n",
              "  <thead>\n",
              "    <tr style=\"text-align: right;\">\n",
              "      <th></th>\n",
              "      <th>Athlete</th>\n",
              "      <th>Counts_of_Medals</th>\n",
              "    </tr>\n",
              "  </thead>\n",
              "  <tbody>\n",
              "    <tr>\n",
              "      <th>0</th>\n",
              "      <td>PHELPS, Michael</td>\n",
              "      <td>22</td>\n",
              "    </tr>\n",
              "    <tr>\n",
              "      <th>1</th>\n",
              "      <td>MANGIAROTTI, Edoardo</td>\n",
              "      <td>13</td>\n",
              "    </tr>\n",
              "    <tr>\n",
              "      <th>2</th>\n",
              "      <td>ONO, Takashi</td>\n",
              "      <td>13</td>\n",
              "    </tr>\n",
              "    <tr>\n",
              "      <th>3</th>\n",
              "      <td>THOMPSON, Jenny</td>\n",
              "      <td>12</td>\n",
              "    </tr>\n",
              "    <tr>\n",
              "      <th>4</th>\n",
              "      <td>NURMI, Paavo</td>\n",
              "      <td>12</td>\n",
              "    </tr>\n",
              "    <tr>\n",
              "      <th>5</th>\n",
              "      <td>COUGHLIN, Natalie</td>\n",
              "      <td>12</td>\n",
              "    </tr>\n",
              "    <tr>\n",
              "      <th>6</th>\n",
              "      <td>TORRES, Dara</td>\n",
              "      <td>12</td>\n",
              "    </tr>\n",
              "    <tr>\n",
              "      <th>7</th>\n",
              "      <td>KATO, Sawao</td>\n",
              "      <td>12</td>\n",
              "    </tr>\n",
              "    <tr>\n",
              "      <th>8</th>\n",
              "      <td>NEMOV, Alexei</td>\n",
              "      <td>12</td>\n",
              "    </tr>\n",
              "    <tr>\n",
              "      <th>9</th>\n",
              "      <td>BIONDI, Matthew</td>\n",
              "      <td>11</td>\n",
              "    </tr>\n",
              "  </tbody>\n",
              "</table>\n",
              "</div>"
            ],
            "text/plain": [
              "                Athlete  Counts_of_Medals\n",
              "0       PHELPS, Michael                22\n",
              "1  MANGIAROTTI, Edoardo                13\n",
              "2          ONO, Takashi                13\n",
              "3       THOMPSON, Jenny                12\n",
              "4          NURMI, Paavo                12\n",
              "5     COUGHLIN, Natalie                12\n",
              "6          TORRES, Dara                12\n",
              "7           KATO, Sawao                12\n",
              "8         NEMOV, Alexei                12\n",
              "9       BIONDI, Matthew                11"
            ]
          },
          "metadata": {},
          "execution_count": 38
        }
      ]
    },
    {
      "cell_type": "markdown",
      "metadata": {
        "id": "RR7PUfyaCmzc"
      },
      "source": [
        "It is seen that PHELPS, Michael has the highest Medals across the years."
      ]
    },
    {
      "cell_type": "code",
      "metadata": {
        "colab": {
          "base_uri": "https://localhost:8080/",
          "height": 142
        },
        "id": "atUxYssWBp8S",
        "outputId": "75bbe054-9d07-48eb-d8ca-16d1331c9b55"
      },
      "source": [
        "Gender_by_Medals = pd.crosstab(summer_olp[\"Gender\"],summer_olp[\"Medal\"])\n",
        "Gender_by_Medals"
      ],
      "execution_count": 63,
      "outputs": [
        {
          "output_type": "execute_result",
          "data": {
            "text/html": [
              "<div>\n",
              "<style scoped>\n",
              "    .dataframe tbody tr th:only-of-type {\n",
              "        vertical-align: middle;\n",
              "    }\n",
              "\n",
              "    .dataframe tbody tr th {\n",
              "        vertical-align: top;\n",
              "    }\n",
              "\n",
              "    .dataframe thead th {\n",
              "        text-align: right;\n",
              "    }\n",
              "</style>\n",
              "<table border=\"1\" class=\"dataframe\">\n",
              "  <thead>\n",
              "    <tr style=\"text-align: right;\">\n",
              "      <th>Medal</th>\n",
              "      <th>Bronze</th>\n",
              "      <th>Gold</th>\n",
              "      <th>Silver</th>\n",
              "    </tr>\n",
              "    <tr>\n",
              "      <th>Gender</th>\n",
              "      <th></th>\n",
              "      <th></th>\n",
              "      <th></th>\n",
              "    </tr>\n",
              "  </thead>\n",
              "  <tbody>\n",
              "    <tr>\n",
              "      <th>Men</th>\n",
              "      <td>6169</td>\n",
              "      <td>6311</td>\n",
              "      <td>6101</td>\n",
              "    </tr>\n",
              "    <tr>\n",
              "      <th>Women</th>\n",
              "      <td>2265</td>\n",
              "      <td>2076</td>\n",
              "      <td>2220</td>\n",
              "    </tr>\n",
              "  </tbody>\n",
              "</table>\n",
              "</div>"
            ],
            "text/plain": [
              "Medal   Bronze  Gold  Silver\n",
              "Gender                      \n",
              "Men       6169  6311    6101\n",
              "Women     2265  2076    2220"
            ]
          },
          "metadata": {},
          "execution_count": 63
        }
      ]
    },
    {
      "cell_type": "markdown",
      "metadata": {
        "id": "HddXum1qlPdC"
      },
      "source": [
        "I'II be using stack barplot to visualize the Gender by Male.\n",
        "\n",
        "Stacking basciaclly means moving inner coulumns to beacome the inner rows index."
      ]
    },
    {
      "cell_type": "code",
      "metadata": {
        "colab": {
          "base_uri": "https://localhost:8080/",
          "height": 621
        },
        "id": "GcJ4oMb3fgXN",
        "outputId": "8957e9ff-b867-47cd-d488-53f03f28b5da"
      },
      "source": [
        "sns.set_style('darkgrid')\n",
        "matplotlib.rcParams['figure.figsize'] = (12, 10)\n",
        "\n",
        "plt.title(\"Overall Participation CountryWise\")\n",
        "\n",
        "#To moved the Medal to become the inner row index\n",
        "stacked = Gender_by_Medals.stack().reset_index().rename(columns={0:'value'})\n",
        "\n",
        "\n",
        "sns.barplot(x=stacked.Medal, y=stacked.value, hue=stacked.Gender, palette=\"CMRmap\")\n",
        "plt.ylabel(\"Counts of Medal\")\n",
        "plt.show()\n",
        "\n"
      ],
      "execution_count": 75,
      "outputs": [
        {
          "output_type": "display_data",
          "data": {
            "image/png": "[encoded data removed]",
            "text/plain": [
              "<Figure size 864x720 with 1 Axes>"
            ]
          },
          "metadata": {}
        }
      ]
    },
    {
      "cell_type": "code",
      "metadata": {
        "id": "Llor_4_9AcEN"
      },
      "source": [
        "#This is just an anlysis for Summer Olympics.\n",
        "#My goal is to predict the type of a medal a Country  wins."
      ],
      "execution_count": 53,
      "outputs": []
    },
    {
      "cell_type": "code",
      "metadata": {
        "id": "1j6G9mj3QXJz"
      },
      "source": [
        ""
      ],
      "execution_count": null,
      "outputs": []
    },
    {
      "cell_type": "code",
      "metadata": {
        "id": "yOdwHBInQzuJ"
      },
      "source": [
        ""
      ],
      "execution_count": null,
      "outputs": []
    }
  ]
}